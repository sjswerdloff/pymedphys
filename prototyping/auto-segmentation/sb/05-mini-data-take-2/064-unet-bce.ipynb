{
 "cells": [
  {
   "cell_type": "code",
   "execution_count": null,
   "metadata": {},
   "outputs": [],
   "source": [
    "import pathlib\n",
    "import tensorflow as tf\n",
    "import tensorflow.keras.backend as K\n",
    "import skimage\n",
    "\n",
    "import imageio\n",
    "\n",
    "import numpy as np\n",
    "import matplotlib.pyplot as plt"
   ]
  },
  {
   "cell_type": "code",
   "execution_count": null,
   "metadata": {},
   "outputs": [],
   "source": [
    "# Makes it so any changes in pymedphys is automatically\n",
    "# propagated into the notebook without needing a kernel reset.\n",
    "from IPython.lib.deepreload import reload\n",
    "%load_ext autoreload\n",
    "%autoreload 2"
   ]
  },
  {
   "cell_type": "code",
   "execution_count": null,
   "metadata": {},
   "outputs": [],
   "source": [
    "from pymedphys._experimental.autosegmentation import unet"
   ]
  },
  {
   "cell_type": "code",
   "execution_count": null,
   "metadata": {},
   "outputs": [],
   "source": [
    "structure_uids = [\n",
    "    path.name for path in pathlib.Path('data').glob('*')\n",
    "]\n",
    "\n",
    "structure_uids"
   ]
  },
  {
   "cell_type": "code",
   "execution_count": null,
   "metadata": {},
   "outputs": [],
   "source": [
    "split_num = len(structure_uids) - 2\n",
    "training_uids = structure_uids[0:split_num]\n",
    "testing_uids = structure_uids[split_num:]"
   ]
  },
  {
   "cell_type": "code",
   "execution_count": null,
   "metadata": {},
   "outputs": [],
   "source": [
    "training_uids"
   ]
  },
  {
   "cell_type": "code",
   "execution_count": null,
   "metadata": {},
   "outputs": [],
   "source": [
    "testing_uids"
   ]
  },
  {
   "cell_type": "code",
   "execution_count": null,
   "metadata": {},
   "outputs": [],
   "source": [
    "def get_image_paths_for_uids(uids):\n",
    "    image_paths = [\n",
    "        str(path) for path in pathlib.Path('data').glob('**/*_image.png')\n",
    "        if path.parent.name in uids\n",
    "    ]\n",
    "    np.random.shuffle(image_paths)\n",
    "    \n",
    "    return image_paths\n",
    "\n",
    "\n",
    "def mask_paths_from_image_paths(image_paths):\n",
    "    mask_paths = [\n",
    "        f\"{image_path.split('_')[0]}_mask.png\"\n",
    "        for image_path in image_paths\n",
    "    ]\n",
    "    \n",
    "    return mask_paths"
   ]
  },
  {
   "cell_type": "code",
   "execution_count": null,
   "metadata": {},
   "outputs": [],
   "source": [
    "training_image_paths = get_image_paths_for_uids(training_uids)\n",
    "training_mask_paths = mask_paths_from_image_paths(training_image_paths)\n",
    "\n",
    "len(training_image_paths), len(training_mask_paths)"
   ]
  },
  {
   "cell_type": "code",
   "execution_count": null,
   "metadata": {},
   "outputs": [],
   "source": [
    "testing_image_paths = get_image_paths_for_uids(testing_uids)\n",
    "testing_mask_paths = mask_paths_from_image_paths(testing_image_paths)\n",
    "\n",
    "len(testing_image_paths), len(testing_mask_paths)"
   ]
  },
  {
   "cell_type": "code",
   "execution_count": null,
   "metadata": {},
   "outputs": [],
   "source": [
    "def _centre_crop(image):\n",
    "    shape = image.shape\n",
    "    cropped = image[\n",
    "        shape[0]//4:3*shape[0]//4,\n",
    "        shape[1]//4:3*shape[1]//4,\n",
    "        ...\n",
    "    ]\n",
    "    return cropped"
   ]
  },
  {
   "cell_type": "code",
   "execution_count": null,
   "metadata": {},
   "outputs": [],
   "source": [
    "def _process_mask(png_mask):\n",
    "    normalised_mask = png_mask / 255\n",
    "    cropped = _centre_crop(normalised_mask)\n",
    "    \n",
    "    return cropped"
   ]
  },
  {
   "cell_type": "code",
   "execution_count": null,
   "metadata": {},
   "outputs": [],
   "source": [
    "# def _remove_mask_weights(weighted_mask):\n",
    "#     return weighted_mask / mask_weights\n",
    "    \n",
    " "
   ]
  },
  {
   "cell_type": "code",
   "execution_count": null,
   "metadata": {},
   "outputs": [],
   "source": [
    "for mask_path in testing_mask_paths[0:5]:\n",
    "    png_mask = imageio.imread(mask_path)\n",
    "    processed_mask = _process_mask(png_mask)\n",
    "    plt.imshow(png_mask)\n",
    "    plt.show()\n",
    "    plt.imshow(processed_mask)\n",
    "    plt.colorbar()\n",
    "    plt.show()"
   ]
  },
  {
   "cell_type": "code",
   "execution_count": null,
   "metadata": {},
   "outputs": [],
   "source": [
    "processed_mask.shape"
   ]
  },
  {
   "cell_type": "code",
   "execution_count": null,
   "metadata": {},
   "outputs": [],
   "source": [
    "def _process_image(png_image):\n",
    "    normalised_image = png_image[:,:,None].astype(float) / 255\n",
    "    cropped = _centre_crop(normalised_image)\n",
    "    return cropped"
   ]
  },
  {
   "cell_type": "code",
   "execution_count": null,
   "metadata": {},
   "outputs": [],
   "source": [
    "for image_path in testing_image_paths[0:5]:\n",
    "    png_image = imageio.imread(image_path)\n",
    "    processed_image = _process_image(png_image)\n",
    "    plt.imshow(png_image)\n",
    "    plt.colorbar()\n",
    "    plt.show()\n",
    "    plt.imshow(processed_image)\n",
    "    plt.colorbar()\n",
    "    plt.show()"
   ]
  },
  {
   "cell_type": "code",
   "execution_count": null,
   "metadata": {},
   "outputs": [],
   "source": [
    "def get_datasets(image_paths, mask_paths):\n",
    "    input_arrays = []\n",
    "    output_arrays = []\n",
    "    for image_path, mask_path in zip(image_paths, mask_paths):\n",
    "        input_arrays.append(_process_image(imageio.imread(image_path)))\n",
    "        output_arrays.append(_process_mask(imageio.imread(mask_path)))\n",
    "        \n",
    "    images = tf.cast(np.array(input_arrays), tf.float32)\n",
    "    masks = tf.cast(np.array(output_arrays), tf.float32)\n",
    "    \n",
    "    return images, masks"
   ]
  },
  {
   "cell_type": "code",
   "execution_count": null,
   "metadata": {},
   "outputs": [],
   "source": [
    "training_images, training_masks = get_datasets(training_image_paths, training_mask_paths)\n",
    "testing_images, testing_masks = get_datasets(testing_image_paths, testing_mask_paths)"
   ]
  },
  {
   "cell_type": "code",
   "execution_count": null,
   "metadata": {},
   "outputs": [],
   "source": [
    "# dir(K)"
   ]
  },
  {
   "cell_type": "code",
   "execution_count": null,
   "metadata": {},
   "outputs": [],
   "source": [
    "mask_dims = training_masks.shape\n",
    "mask_dims"
   ]
  },
  {
   "cell_type": "code",
   "execution_count": null,
   "metadata": {},
   "outputs": [],
   "source": [
    "testing_masks.shape"
   ]
  },
  {
   "cell_type": "code",
   "execution_count": null,
   "metadata": {},
   "outputs": [],
   "source": [
    "def display(display_list):\n",
    "    plt.figure(figsize=(18, 5))\n",
    "\n",
    "    title = ['Input Image', 'True Mask', 'Predicted Mask']\n",
    "\n",
    "    for i in range(len(display_list)):\n",
    "        plt.subplot(1, len(display_list), i+1)\n",
    "        plt.title(title[i])            \n",
    "        plt.imshow(display_list[i])\n",
    "        plt.colorbar()\n",
    "        plt.axis('off')\n",
    "        \n",
    "    plt.show()\n",
    "    \n",
    "display([testing_images[0,:,:,:], testing_masks[0,:,:,:]])"
   ]
  },
  {
   "cell_type": "code",
   "execution_count": null,
   "metadata": {},
   "outputs": [],
   "source": [
    "def sigmoid_about_zero(mask):\n",
    "    return 2 * (K.sigmoid(mask) - 0.5)"
   ]
  },
  {
   "cell_type": "code",
   "execution_count": null,
   "metadata": {},
   "outputs": [],
   "source": [
    "scharr_x = np.array([\n",
    "    [47, 0, -47],\n",
    "    [162, 0, -162],\n",
    "    [47, 0, -47]\n",
    "]).astype(np.float32)\n",
    "scharr_y = scharr_x.T\n",
    "scharr_x = K.constant(scharr_x)\n",
    "scharr_y = K.constant(scharr_y)\n",
    "\n",
    "def _apply_sharr_filter(image):\n",
    "    items = []\n",
    "    for i in range(image.shape[-1]):\n",
    "        x = tf.compat.v1.nn.convolution(image[:,:,:,i][:,:,:,None], scharr_x[:,:,None,None], padding=\"VALID\") / 255\n",
    "        y = tf.compat.v1.nn.convolution(image[:,:,:,i][:,:,:,None], scharr_y[:,:,None,None], padding=\"VALID\") / 255\n",
    "        items.append(\n",
    "            K.sqrt(x**2 + y**2)\n",
    "        )\n",
    "        \n",
    "    return K.concatenate(items, axis=-1)"
   ]
  },
  {
   "cell_type": "code",
   "execution_count": null,
   "metadata": {},
   "outputs": [],
   "source": [
    "def _collect_scharr_filters_without_merging(image):\n",
    "    items = []\n",
    "    for i in range(image.shape[-1]):\n",
    "        x = tf.compat.v1.nn.convolution(image[:,:,:,i][:,:,:,None], scharr_x[:,:,None,None], padding=\"VALID\") / 255\n",
    "        y = tf.compat.v1.nn.convolution(image[:,:,:,i][:,:,:,None], scharr_y[:,:,None,None], padding=\"VALID\") / 255\n",
    "        items.append(x)\n",
    "        items.append(y)\n",
    "        \n",
    "    return K.concatenate(items, axis=-1)"
   ]
  },
  {
   "cell_type": "code",
   "execution_count": null,
   "metadata": {},
   "outputs": [],
   "source": []
  },
  {
   "cell_type": "code",
   "execution_count": null,
   "metadata": {},
   "outputs": [],
   "source": [
    "filtered_masks = _apply_sharr_filter(K.constant(tf.cast(testing_masks, tf.float32)))"
   ]
  },
  {
   "cell_type": "code",
   "execution_count": null,
   "metadata": {},
   "outputs": [],
   "source": [
    "plt.imshow(testing_masks[0,:,:,2])\n",
    "plt.colorbar()"
   ]
  },
  {
   "cell_type": "code",
   "execution_count": null,
   "metadata": {},
   "outputs": [],
   "source": [
    "plt.imshow(filtered_masks[0,:,:,2])\n",
    "plt.colorbar()"
   ]
  },
  {
   "cell_type": "code",
   "execution_count": null,
   "metadata": {},
   "outputs": [],
   "source": []
  },
  {
   "cell_type": "code",
   "execution_count": null,
   "metadata": {},
   "outputs": [],
   "source": [
    "left_pixel_removed = testing_masks[:,:,1:,:]\n",
    "right_pixel_removed = testing_masks[:,:,:-1,:]"
   ]
  },
  {
   "cell_type": "code",
   "execution_count": null,
   "metadata": {},
   "outputs": [],
   "source": [
    "edge_reference = _apply_sharr_filter(left_pixel_removed)\n",
    "edge_evaluation = _apply_sharr_filter(right_pixel_removed)"
   ]
  },
  {
   "cell_type": "code",
   "execution_count": null,
   "metadata": {},
   "outputs": [],
   "source": [
    "plt.imshow(edge_reference[0,:,:,2])\n",
    "plt.colorbar()"
   ]
  },
  {
   "cell_type": "code",
   "execution_count": null,
   "metadata": {},
   "outputs": [],
   "source": [
    "plt.imshow(edge_evaluation[0,:,:,2])"
   ]
  },
  {
   "cell_type": "code",
   "execution_count": null,
   "metadata": {},
   "outputs": [],
   "source": [
    "diff_image = K.abs(edge_evaluation - edge_reference)\n"
   ]
  },
  {
   "cell_type": "code",
   "execution_count": null,
   "metadata": {},
   "outputs": [],
   "source": [
    "plt.imshow((K.sigmoid(diff_image[0,:,:,2]) - 0.5) * 2)\n",
    "plt.colorbar()"
   ]
  },
  {
   "cell_type": "code",
   "execution_count": null,
   "metadata": {},
   "outputs": [],
   "source": [
    "# edge_reference - edge_evaluation"
   ]
  },
  {
   "cell_type": "code",
   "execution_count": null,
   "metadata": {},
   "outputs": [],
   "source": [
    "1 - K.sum(K.sqrt(edge_reference * edge_evaluation)) / K.sum((edge_reference + edge_evaluation) / 2)"
   ]
  },
  {
   "cell_type": "code",
   "execution_count": null,
   "metadata": {},
   "outputs": [],
   "source": [
    "1 - K.sum(K.sqrt(edge_reference * edge_reference)) / K.sum((edge_reference + edge_reference) / 2)"
   ]
  },
  {
   "cell_type": "code",
   "execution_count": null,
   "metadata": {},
   "outputs": [],
   "source": [
    "plt.imshow(K.sqrt(edge_reference * edge_reference)[0,:,:,2])\n",
    "plt.colorbar()"
   ]
  },
  {
   "cell_type": "code",
   "execution_count": null,
   "metadata": {},
   "outputs": [],
   "source": [
    "K.sum(K.abs(edge_reference - edge_evaluation)) / K.sum(edge_reference + edge_evaluation)"
   ]
  },
  {
   "cell_type": "code",
   "execution_count": null,
   "metadata": {},
   "outputs": [],
   "source": [
    "K.sum(K.abs(edge_reference - edge_reference)) / K.sum(edge_reference + edge_reference)"
   ]
  },
  {
   "cell_type": "code",
   "execution_count": null,
   "metadata": {},
   "outputs": [],
   "source": []
  },
  {
   "cell_type": "code",
   "execution_count": null,
   "metadata": {},
   "outputs": [],
   "source": [
    "# plt.imshow(_absolute_like_sigmoid(_apply_sharr_filter(testing_masks) * _apply_sharr_filter(testing_masks))[0,:,:,2])\n",
    "# plt.colorbar()"
   ]
  },
  {
   "cell_type": "code",
   "execution_count": null,
   "metadata": {},
   "outputs": [],
   "source": [
    "# loss = K.sum(diff_image) / (K.sum(edge_evaluation) + K.sum(edge_reference))\n",
    "# loss"
   ]
  },
  {
   "cell_type": "code",
   "execution_count": null,
   "metadata": {},
   "outputs": [],
   "source": [
    "# dir(K)"
   ]
  },
  {
   "cell_type": "code",
   "execution_count": null,
   "metadata": {},
   "outputs": [],
   "source": [
    "# intersection = K.sum(K.abs(y_true * y_pred), axis=-1)\n",
    "# sum_ = K.sum(K.abs(y_true) + K.abs(y_pred), axis=-1)\n",
    "# jac = (intersection + smooth) / (sum_ - intersection + smooth)"
   ]
  },
  {
   "cell_type": "code",
   "execution_count": null,
   "metadata": {},
   "outputs": [],
   "source": [
    "1 - K.sum(K.sqrt(edge_reference * edge_reference)) / K.sum((edge_reference + edge_reference) / 2)"
   ]
  },
  {
   "cell_type": "code",
   "execution_count": null,
   "metadata": {},
   "outputs": [],
   "source": [
    "np.min(edge_reference)"
   ]
  },
  {
   "cell_type": "code",
   "execution_count": null,
   "metadata": {},
   "outputs": [],
   "source": [
    "bce = tf.keras.losses.BinaryCrossentropy()\n",
    "\n",
    "scharr_weight = 1\n",
    "# beta = 0.99\n",
    "\n",
    "def scharr(reference, evaluation):   \n",
    "    edge_reference = _collect_scharr_filters_without_merging(reference)\n",
    "    edge_evaluation = _collect_scharr_filters_without_merging(evaluation)\n",
    "    \n",
    "    return bce(K.sigmoid(edge_reference), K.sigmoid(edge_evaluation))\n",
    "\n",
    "def scharr_and_bce(reference, evaluation):\n",
    "    bce_loss = bce(reference, evaluation)\n",
    "    scharr_loss = scharr(reference, evaluation)\n",
    "    \n",
    "    loss = scharr_weight * scharr_loss + bce_loss\n",
    "    \n",
    "    return loss"
   ]
  },
  {
   "cell_type": "code",
   "execution_count": null,
   "metadata": {},
   "outputs": [],
   "source": [
    "# for i, label in enumerate(['eye', 'brain', 'patient']):\n",
    "#     loss = scharr(testing_masks[...,i:i+1], predicted_masks[...,i:i+1])\n",
    "#     print(f\"{label} loss = {loss}\")"
   ]
  },
  {
   "cell_type": "code",
   "execution_count": null,
   "metadata": {},
   "outputs": [],
   "source": [
    "weights = {\n",
    "    'eye': 1/0.055,\n",
    "    'brain': 1/0.24,\n",
    "    'patient': 1/1.7\n",
    "}\n",
    "\n",
    "def weighted_scharr(reference, evaluation):\n",
    "    loss = 0\n",
    "    for i, label in enumerate(['eye', 'brain', 'patient']):\n",
    "        loss += (\n",
    "            weights[label] * \n",
    "            scharr(reference[...,i:i+1], evaluation[...,i:i+1])\n",
    "        )\n",
    "    return loss"
   ]
  },
  {
   "cell_type": "code",
   "execution_count": null,
   "metadata": {},
   "outputs": [],
   "source": [
    "scharr(left_pixel_removed, right_pixel_removed)"
   ]
  },
  {
   "cell_type": "code",
   "execution_count": null,
   "metadata": {},
   "outputs": [],
   "source": [
    "scharr(right_pixel_removed, left_pixel_removed)"
   ]
  },
  {
   "cell_type": "code",
   "execution_count": null,
   "metadata": {},
   "outputs": [],
   "source": [
    "scharr(right_pixel_removed, right_pixel_removed)"
   ]
  },
  {
   "cell_type": "code",
   "execution_count": null,
   "metadata": {},
   "outputs": [],
   "source": [
    "# np.random.randint"
   ]
  },
  {
   "cell_type": "code",
   "execution_count": null,
   "metadata": {},
   "outputs": [],
   "source": [
    "# np.random.choice?\n",
    "testing_images.shape"
   ]
  },
  {
   "cell_type": "code",
   "execution_count": null,
   "metadata": {},
   "outputs": [],
   "source": [
    "has_brain = np.sum(testing_masks[:,:,:,1], axis=(1,2))\n",
    "has_eyes = np.sum(testing_masks[:,:,:,0], axis=(1,2))\n",
    "\n",
    "brain_sort = 1 - np.argsort(has_brain) / len(has_brain)\n",
    "eyes_sort = 1 - np.argsort(has_eyes) / len(has_eyes)\n",
    "\n",
    "max_combo = np.argmax(brain_sort * eyes_sort * has_brain * has_eyes)\n",
    "sample_index = max_combo"
   ]
  },
  {
   "cell_type": "code",
   "execution_count": null,
   "metadata": {},
   "outputs": [],
   "source": [
    "# eyes_sort"
   ]
  },
  {
   "cell_type": "code",
   "execution_count": null,
   "metadata": {},
   "outputs": [],
   "source": [
    "# brain_sort"
   ]
  },
  {
   "cell_type": "code",
   "execution_count": null,
   "metadata": {},
   "outputs": [],
   "source": [
    "sample_image = testing_images[max_combo,:,:,:]\n",
    "sample_mask = testing_masks[max_combo,:,:,:]"
   ]
  },
  {
   "cell_type": "code",
   "execution_count": null,
   "metadata": {},
   "outputs": [],
   "source": [
    "plt.imshow(sample_image)"
   ]
  },
  {
   "cell_type": "code",
   "execution_count": null,
   "metadata": {},
   "outputs": [],
   "source": [
    "plt.imshow(sample_mask)"
   ]
  },
  {
   "cell_type": "code",
   "execution_count": null,
   "metadata": {},
   "outputs": [],
   "source": []
  },
  {
   "cell_type": "code",
   "execution_count": null,
   "metadata": {},
   "outputs": [],
   "source": [
    "assert mask_dims[1] == mask_dims[2]\n",
    "grid_size = int(mask_dims[2])\n",
    "output_channels = int(mask_dims[-1])\n",
    "\n",
    "tf.keras.backend.clear_session()\n",
    "model = unet.unet(\n",
    "    grid_size=grid_size, \n",
    "    output_channels=output_channels, \n",
    "    number_of_filters_start=32,\n",
    "    max_filter_num=32,\n",
    "    min_grid_size=8,\n",
    "    num_of_fc=2\n",
    ")\n",
    "model.summary()"
   ]
  },
  {
   "cell_type": "code",
   "execution_count": null,
   "metadata": {},
   "outputs": [],
   "source": [
    "def show_prediction():\n",
    "    predicted_masks = model.predict(testing_images)\n",
    "    \n",
    "    display(\n",
    "        [\n",
    "            sample_image, sample_mask,\n",
    "            predicted_masks[sample_index,:,:,:]\n",
    "        ]\n",
    "    )\n",
    "    for i, label in enumerate(['eye', 'brain', 'patient']):\n",
    "        loss = scharr(testing_masks[...,i:i+1], predicted_masks[...,i:i+1])\n",
    "        print(f\"{label} loss = {loss}\")\n",
    "        \n",
    "        \n",
    "class DisplayCallback(tf.keras.callbacks.Callback):\n",
    "    def on_epoch_end(self, epoch, logs=None):\n",
    "        show_prediction()\n",
    "        print ('\\nSample Prediction after epoch {}\\n'.format(epoch+1))\n",
    "        \n",
    "show_prediction()"
   ]
  },
  {
   "cell_type": "code",
   "execution_count": null,
   "metadata": {},
   "outputs": [],
   "source": [
    "model.compile(\n",
    "    optimizer=tf.keras.optimizers.Adam(\n",
    "#         learning_rate=0.0001\n",
    "    ),\n",
    "    loss=bce,\n",
    "    metrics=[\n",
    "        tf.keras.metrics.BinaryAccuracy(),\n",
    "        tf.keras.metrics.Recall(),\n",
    "        tf.keras.metrics.Precision()\n",
    "    ]\n",
    ")"
   ]
  },
  {
   "cell_type": "code",
   "execution_count": null,
   "metadata": {},
   "outputs": [],
   "source": [
    "# model.load_weights('./checkpoints/binomial-cross-entropy')"
   ]
  },
  {
   "cell_type": "code",
   "execution_count": null,
   "metadata": {},
   "outputs": [],
   "source": [
    "history = model.fit(\n",
    "    training_images, \n",
    "    training_masks,\n",
    "    epochs=100,\n",
    "#     batch_size=training_masks.shape[0]//3,\n",
    "    validation_data=(testing_images, testing_masks),\n",
    "    callbacks=[DisplayCallback()]\n",
    ")"
   ]
  },
  {
   "cell_type": "code",
   "execution_count": null,
   "metadata": {},
   "outputs": [],
   "source": [
    "\n",
    "        \n",
    "# show_predictions(num=1)"
   ]
  },
  {
   "cell_type": "code",
   "execution_count": null,
   "metadata": {},
   "outputs": [],
   "source": [
    "# loss_object = scharr_loss_with_bce\n",
    "# optimizer = tf.keras.optimizers.Adam()\n",
    "\n",
    "# def train_step(images, masks):\n",
    "#     with tf.GradientTape() as tape:\n",
    "#         logits = model(images, training=True)\n",
    "#         loss_value = loss_object(masks, logits, debug=True)\n",
    "        \n",
    "#     grads = tape.gradient(loss_value, model.trainable_variables)\n",
    "#     optimizer.apply_gradients(zip(grads, model.trainable_variables))\n",
    "    \n",
    "\n",
    "# def train(epochs):\n",
    "#     for epoch in range(epochs):\n",
    "#         train_step(training_images, training_masks)\n",
    "\n",
    "#         print ('Epoch {} finished'.format(epoch))\n",
    "#         show_predictions()\n",
    "        \n",
    "# train(100)"
   ]
  },
  {
   "cell_type": "code",
   "execution_count": null,
   "metadata": {},
   "outputs": [],
   "source": [
    "tf.keras.optimizers.Adam?"
   ]
  },
  {
   "cell_type": "code",
   "execution_count": null,
   "metadata": {},
   "outputs": [],
   "source": []
  },
  {
   "cell_type": "code",
   "execution_count": null,
   "metadata": {},
   "outputs": [],
   "source": []
  },
  {
   "cell_type": "code",
   "execution_count": null,
   "metadata": {},
   "outputs": [],
   "source": [
    "# model.fit?"
   ]
  },
  {
   "cell_type": "code",
   "execution_count": null,
   "metadata": {},
   "outputs": [],
   "source": []
  },
  {
   "cell_type": "code",
   "execution_count": null,
   "metadata": {},
   "outputs": [],
   "source": [
    "checkpoints_dir = pathlib.Path('checkpoints')\n",
    "checkpoints_dir.mkdir(exist_ok=True)"
   ]
  },
  {
   "cell_type": "code",
   "execution_count": null,
   "metadata": {},
   "outputs": [],
   "source": [
    "model.save_weights(checkpoints_dir.joinpath('scharr'))"
   ]
  },
  {
   "cell_type": "code",
   "execution_count": null,
   "metadata": {},
   "outputs": [],
   "source": []
  }
 ],
 "metadata": {
  "kernelspec": {
   "display_name": "pymedphys",
   "language": "python",
   "name": "pymedphys"
  },
  "language_info": {
   "codemirror_mode": {
    "name": "ipython",
    "version": 3
   },
   "file_extension": ".py",
   "mimetype": "text/x-python",
   "name": "python",
   "nbconvert_exporter": "python",
   "pygments_lexer": "ipython3",
   "version": "3.7.9"
  }
 },
 "nbformat": 4,
 "nbformat_minor": 4
}
