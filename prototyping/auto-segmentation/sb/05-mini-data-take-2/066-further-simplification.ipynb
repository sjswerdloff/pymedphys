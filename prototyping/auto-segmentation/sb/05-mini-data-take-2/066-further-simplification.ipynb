{
 "cells": [
  {
   "cell_type": "code",
   "execution_count": null,
   "metadata": {},
   "outputs": [],
   "source": [
    "import pathlib\n",
    "import tensorflow as tf\n",
    "import tensorflow.keras.backend as K\n",
    "import skimage\n",
    "\n",
    "import imageio\n",
    "\n",
    "import numpy as np\n",
    "import matplotlib.pyplot as plt"
   ]
  },
  {
   "cell_type": "code",
   "execution_count": null,
   "metadata": {},
   "outputs": [],
   "source": [
    "# Makes it so any changes in pymedphys is automatically\n",
    "# propagated into the notebook without needing a kernel reset.\n",
    "from IPython.lib.deepreload import reload\n",
    "%load_ext autoreload\n",
    "%autoreload 2"
   ]
  },
  {
   "cell_type": "code",
   "execution_count": null,
   "metadata": {},
   "outputs": [],
   "source": [
    "from pymedphys._experimental.autosegmentation import unet"
   ]
  },
  {
   "cell_type": "code",
   "execution_count": null,
   "metadata": {},
   "outputs": [],
   "source": [
    "structure_uids = [\n",
    "    path.name for path in pathlib.Path('data').glob('*')\n",
    "]\n",
    "\n",
    "structure_uids"
   ]
  },
  {
   "cell_type": "code",
   "execution_count": null,
   "metadata": {},
   "outputs": [],
   "source": [
    "split_num = len(structure_uids) - 2\n",
    "training_uids = structure_uids[0:split_num]\n",
    "testing_uids = structure_uids[split_num:]"
   ]
  },
  {
   "cell_type": "code",
   "execution_count": null,
   "metadata": {},
   "outputs": [],
   "source": [
    "training_uids"
   ]
  },
  {
   "cell_type": "code",
   "execution_count": null,
   "metadata": {},
   "outputs": [],
   "source": [
    "testing_uids"
   ]
  },
  {
   "cell_type": "code",
   "execution_count": null,
   "metadata": {},
   "outputs": [],
   "source": [
    "def get_image_paths_for_uids(uids):\n",
    "    image_paths = [\n",
    "        str(path) for path in pathlib.Path('data').glob('**/*_image.png')\n",
    "        if path.parent.name in uids\n",
    "    ]\n",
    "    np.random.shuffle(image_paths)\n",
    "    \n",
    "    return image_paths\n",
    "\n",
    "\n",
    "def mask_paths_from_image_paths(image_paths):\n",
    "    mask_paths = [\n",
    "        f\"{image_path.split('_')[0]}_mask.png\"\n",
    "        for image_path in image_paths\n",
    "    ]\n",
    "    \n",
    "    return mask_paths"
   ]
  },
  {
   "cell_type": "code",
   "execution_count": null,
   "metadata": {},
   "outputs": [],
   "source": [
    "training_image_paths = get_image_paths_for_uids(training_uids)\n",
    "training_mask_paths = mask_paths_from_image_paths(training_image_paths)\n",
    "\n",
    "len(training_image_paths), len(training_mask_paths)"
   ]
  },
  {
   "cell_type": "code",
   "execution_count": null,
   "metadata": {},
   "outputs": [],
   "source": [
    "testing_image_paths = get_image_paths_for_uids(testing_uids)\n",
    "testing_mask_paths = mask_paths_from_image_paths(testing_image_paths)\n",
    "\n",
    "len(testing_image_paths), len(testing_mask_paths)"
   ]
  },
  {
   "cell_type": "code",
   "execution_count": null,
   "metadata": {},
   "outputs": [],
   "source": [
    "def _centre_crop(image):\n",
    "    shape = image.shape\n",
    "    cropped = image[\n",
    "        shape[0]//4:3*shape[0]//4,\n",
    "        shape[1]//4:3*shape[1]//4,\n",
    "        ...\n",
    "    ]\n",
    "    return cropped"
   ]
  },
  {
   "cell_type": "code",
   "execution_count": null,
   "metadata": {},
   "outputs": [],
   "source": [
    "def _process_mask(png_mask):\n",
    "    normalised_mask = png_mask / 255\n",
    "    cropped = _centre_crop(normalised_mask)\n",
    "    \n",
    "    return cropped"
   ]
  },
  {
   "cell_type": "code",
   "execution_count": null,
   "metadata": {},
   "outputs": [],
   "source": [
    "# def _remove_mask_weights(weighted_mask):\n",
    "#     return weighted_mask / mask_weights\n",
    "    \n",
    " "
   ]
  },
  {
   "cell_type": "code",
   "execution_count": null,
   "metadata": {},
   "outputs": [],
   "source": [
    "for mask_path in testing_mask_paths[0:1]:\n",
    "    png_mask = imageio.imread(mask_path)\n",
    "    processed_mask = _process_mask(png_mask)\n",
    "    plt.imshow(png_mask)\n",
    "    plt.show()\n",
    "    plt.imshow(processed_mask)\n",
    "    plt.colorbar()\n",
    "    plt.show()"
   ]
  },
  {
   "cell_type": "code",
   "execution_count": null,
   "metadata": {},
   "outputs": [],
   "source": [
    "processed_mask.shape"
   ]
  },
  {
   "cell_type": "code",
   "execution_count": null,
   "metadata": {},
   "outputs": [],
   "source": [
    "def _process_image(png_image):\n",
    "    normalised_image = png_image[:,:,None].astype(float) / 255\n",
    "    cropped = _centre_crop(normalised_image)\n",
    "    return cropped"
   ]
  },
  {
   "cell_type": "code",
   "execution_count": null,
   "metadata": {},
   "outputs": [],
   "source": [
    "for image_path in testing_image_paths[0:1]:\n",
    "    png_image = imageio.imread(image_path)\n",
    "    processed_image = _process_image(png_image)\n",
    "    plt.imshow(png_image)\n",
    "    plt.colorbar()\n",
    "    plt.show()\n",
    "    plt.imshow(processed_image)\n",
    "    plt.colorbar()\n",
    "    plt.show()"
   ]
  },
  {
   "cell_type": "code",
   "execution_count": null,
   "metadata": {},
   "outputs": [],
   "source": [
    "def get_datasets(image_paths, mask_paths):\n",
    "    input_arrays = []\n",
    "    output_arrays = []\n",
    "    for image_path, mask_path in zip(image_paths, mask_paths):\n",
    "        input_arrays.append(_process_image(imageio.imread(image_path)))\n",
    "        output_arrays.append(_process_mask(imageio.imread(mask_path)))\n",
    "        \n",
    "    images = tf.cast(np.array(input_arrays), tf.float32)\n",
    "    masks = tf.cast(np.array(output_arrays), tf.float32)\n",
    "    \n",
    "    return images, masks"
   ]
  },
  {
   "cell_type": "code",
   "execution_count": null,
   "metadata": {},
   "outputs": [],
   "source": [
    "training_images, training_masks = get_datasets(training_image_paths, training_mask_paths)\n",
    "testing_images, testing_masks = get_datasets(testing_image_paths, testing_mask_paths)"
   ]
  },
  {
   "cell_type": "code",
   "execution_count": null,
   "metadata": {},
   "outputs": [],
   "source": [
    "# dir(K)"
   ]
  },
  {
   "cell_type": "code",
   "execution_count": null,
   "metadata": {},
   "outputs": [],
   "source": [
    "mask_dims = training_masks.shape\n",
    "mask_dims"
   ]
  },
  {
   "cell_type": "code",
   "execution_count": null,
   "metadata": {},
   "outputs": [],
   "source": [
    "testing_masks.shape"
   ]
  },
  {
   "cell_type": "code",
   "execution_count": null,
   "metadata": {},
   "outputs": [],
   "source": [
    "def display(display_list):\n",
    "    plt.figure(figsize=(18, 5))\n",
    "\n",
    "    title = ['Input Image', 'True Mask', 'Predicted Mask']\n",
    "\n",
    "    for i in range(len(display_list)):\n",
    "        plt.subplot(1, len(display_list), i+1)\n",
    "        plt.title(title[i])            \n",
    "        plt.imshow(display_list[i])\n",
    "        plt.colorbar()\n",
    "        plt.axis('off')\n",
    "        \n",
    "    plt.show()\n",
    "    \n",
    "display([testing_images[0,:,:,:], testing_masks[0,:,:,:]])"
   ]
  },
  {
   "cell_type": "code",
   "execution_count": null,
   "metadata": {},
   "outputs": [],
   "source": [
    "has_brain = np.sum(testing_masks[:,:,:,1], axis=(1,2))\n",
    "has_eyes = np.sum(testing_masks[:,:,:,0], axis=(1,2))\n",
    "\n",
    "brain_sort = 1 - np.argsort(has_brain) / len(has_brain)\n",
    "eyes_sort = 1 - np.argsort(has_eyes) / len(has_eyes)\n",
    "\n",
    "max_combo = np.argmax(brain_sort * eyes_sort * has_brain * has_eyes)\n",
    "sample_index = max_combo"
   ]
  },
  {
   "cell_type": "code",
   "execution_count": null,
   "metadata": {},
   "outputs": [],
   "source": [
    "# eyes_sort"
   ]
  },
  {
   "cell_type": "code",
   "execution_count": null,
   "metadata": {},
   "outputs": [],
   "source": [
    "# brain_sort"
   ]
  },
  {
   "cell_type": "code",
   "execution_count": null,
   "metadata": {},
   "outputs": [],
   "source": [
    "sample_image = testing_images[max_combo,:,:,:]\n",
    "sample_mask = testing_masks[max_combo,:,:,:]"
   ]
  },
  {
   "cell_type": "code",
   "execution_count": null,
   "metadata": {},
   "outputs": [],
   "source": [
    "plt.imshow(sample_image)"
   ]
  },
  {
   "cell_type": "code",
   "execution_count": null,
   "metadata": {},
   "outputs": [],
   "source": [
    "plt.imshow(sample_mask)"
   ]
  },
  {
   "cell_type": "code",
   "execution_count": null,
   "metadata": {},
   "outputs": [],
   "source": []
  },
  {
   "cell_type": "code",
   "execution_count": null,
   "metadata": {},
   "outputs": [],
   "source": [
    "assert mask_dims[1] == mask_dims[2]\n",
    "grid_size = int(mask_dims[2])\n",
    "output_channels = int(mask_dims[-1])\n",
    "\n",
    "tf.keras.backend.clear_session()\n",
    "model = unet.unet(\n",
    "    grid_size=grid_size, \n",
    "    output_channels=output_channels, \n",
    "    number_of_filters_start=32,\n",
    "    max_filter_num=64,\n",
    "    min_grid_size=8,\n",
    "    num_of_fc=2,\n",
    "    batch_normalisation=False,\n",
    "    use_dropout=False,\n",
    ")\n",
    "model.summary()"
   ]
  },
  {
   "cell_type": "code",
   "execution_count": null,
   "metadata": {},
   "outputs": [],
   "source": [
    "def show_prediction():\n",
    "    predicted_masks = model.predict(testing_images)\n",
    "    display(\n",
    "        [\n",
    "            sample_image, sample_mask,\n",
    "            predicted_masks[sample_index,:,:,:]\n",
    "        ]\n",
    "    )\n",
    "        \n",
    "        \n",
    "class DisplayCallback(tf.keras.callbacks.Callback):\n",
    "    def on_epoch_end(self, epoch, logs=None):\n",
    "        show_prediction()\n",
    "        print ('\\nSample Prediction after epoch {}\\n'.format(epoch+1))\n",
    "        \n",
    "show_prediction()"
   ]
  },
  {
   "cell_type": "code",
   "execution_count": null,
   "metadata": {},
   "outputs": [],
   "source": [
    "model.compile(\n",
    "    optimizer=tf.keras.optimizers.Adam(\n",
    "#         learning_rate=0.0001\n",
    "    ),\n",
    "    loss=tf.keras.losses.BinaryCrossentropy(),\n",
    "    metrics=[\n",
    "        tf.keras.metrics.BinaryAccuracy(),\n",
    "        tf.keras.metrics.Recall(),\n",
    "        tf.keras.metrics.Precision()\n",
    "    ]\n",
    ")"
   ]
  },
  {
   "cell_type": "code",
   "execution_count": null,
   "metadata": {},
   "outputs": [],
   "source": [
    "# model.load_weights('./checkpoints/binomial-cross-entropy')"
   ]
  },
  {
   "cell_type": "code",
   "execution_count": null,
   "metadata": {},
   "outputs": [],
   "source": [
    "history = model.fit(\n",
    "    training_images, \n",
    "    training_masks,\n",
    "    epochs=100,\n",
    "#     batch_size=training_masks.shape[0]//3,\n",
    "    validation_data=(testing_images, testing_masks),\n",
    "    callbacks=[DisplayCallback()]\n",
    ")"
   ]
  },
  {
   "cell_type": "code",
   "execution_count": null,
   "metadata": {},
   "outputs": [],
   "source": [
    "# checkpoints_dir = pathlib.Path('checkpoints')\n",
    "# checkpoints_dir.mkdir(exist_ok=True)"
   ]
  },
  {
   "cell_type": "code",
   "execution_count": null,
   "metadata": {},
   "outputs": [],
   "source": [
    "# model.save_weights(checkpoints_dir.joinpath('final'))"
   ]
  },
  {
   "cell_type": "code",
   "execution_count": null,
   "metadata": {},
   "outputs": [],
   "source": []
  }
 ],
 "metadata": {
  "kernelspec": {
   "display_name": "pymedphys",
   "language": "python",
   "name": "pymedphys"
  },
  "language_info": {
   "codemirror_mode": {
    "name": "ipython",
    "version": 3
   },
   "file_extension": ".py",
   "mimetype": "text/x-python",
   "name": "python",
   "nbconvert_exporter": "python",
   "pygments_lexer": "ipython3",
   "version": "3.7.9"
  }
 },
 "nbformat": 4,
 "nbformat_minor": 4
}
