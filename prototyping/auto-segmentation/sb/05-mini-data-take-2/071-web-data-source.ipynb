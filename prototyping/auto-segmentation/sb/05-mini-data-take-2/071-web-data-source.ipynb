{
 "cells": [
  {
   "cell_type": "code",
   "execution_count": null,
   "metadata": {},
   "outputs": [],
   "source": [
    "import pathlib\n",
    "import urllib.request\n",
    "import shutil\n",
    "\n",
    "import numpy as np\n",
    "import matplotlib.pyplot as plt\n",
    "import imageio"
   ]
  },
  {
   "cell_type": "code",
   "execution_count": null,
   "metadata": {},
   "outputs": [],
   "source": [
    "import tensorflow as tf"
   ]
  },
  {
   "cell_type": "code",
   "execution_count": null,
   "metadata": {},
   "outputs": [],
   "source": [
    "zip_url = 'https://zenodo.org/record/4448689/files/minified-animal-patient-brain-orbits.zip?download=1'\n",
    "zip_filepath = 'data.zip'\n",
    "\n",
    "data_directory = pathlib.Path('data')\n",
    "\n",
    "if not data_directory.exists():\n",
    "    urllib.request.urlretrieve(zip_url, zip_filepath)\n",
    "    shutil.unpack_archive(zip_filepath, data_directory)"
   ]
  },
  {
   "cell_type": "code",
   "execution_count": null,
   "metadata": {},
   "outputs": [],
   "source": [
    "dataset_types = [path.name for path in data_directory.glob('*') if path.is_dir()]\n",
    "dataset_types"
   ]
  },
  {
   "cell_type": "code",
   "execution_count": null,
   "metadata": {},
   "outputs": [],
   "source": [
    "def _load_image(image_path):\n",
    "    png_image = imageio.imread(image_path)\n",
    "    normalised_image = png_image[:,:,None].astype(float) / 255\n",
    "    \n",
    "    return normalised_image\n",
    "\n",
    "\n",
    "def _load_mask(mask_path):\n",
    "    png_mask = imageio.imread(mask_path)\n",
    "    normalised_mask = png_mask / 255\n",
    "    \n",
    "    return normalised_mask"
   ]
  },
  {
   "cell_type": "code",
   "execution_count": null,
   "metadata": {},
   "outputs": [],
   "source": [
    "def load_dataset_type(dataset_type):\n",
    "    image_suffix = '_image.png'\n",
    "    mask_suffix = '_mask.png'\n",
    "    \n",
    "    image_paths = list(data_directory.joinpath(dataset_type).glob(f'**/*{image_suffix}'))\n",
    "    np.random.shuffle(image_paths)\n",
    "    \n",
    "    mask_paths = [\n",
    "        path.parent / path.name.replace(image_suffix, mask_suffix)\n",
    "        for path in image_paths\n",
    "    ]\n",
    "    \n",
    "    image_arrays = [\n",
    "        _load_image(image_path)\n",
    "        for image_path in image_paths\n",
    "    ]\n",
    "    mask_arrays = [\n",
    "        _load_mask(mask_path)\n",
    "        for mask_path in mask_paths\n",
    "    ]\n",
    "        \n",
    "    images =np.array(image_arrays)\n",
    "    masks = np.array(mask_arrays)\n",
    "    \n",
    "    return images, masks"
   ]
  },
  {
   "cell_type": "code",
   "execution_count": null,
   "metadata": {},
   "outputs": [],
   "source": [
    "training_images, training_masks = load_dataset_type('training')\n",
    "validation_images, validation_masks = load_dataset_type('validation')"
   ]
  },
  {
   "cell_type": "code",
   "execution_count": null,
   "metadata": {},
   "outputs": [],
   "source": [
    "def _find_image_with_most_variety(images, masks):\n",
    "    has_brain = np.sum(masks[:,:,:,1], axis=(1,2))\n",
    "    has_eyes = np.sum(masks[:,:,:,0], axis=(1,2))\n",
    "\n",
    "    brain_sort = 1 - np.argsort(has_brain) / len(has_brain)\n",
    "    eyes_sort = 1 - np.argsort(has_eyes) / len(has_eyes)\n",
    "\n",
    "    max_combo = np.argmax(brain_sort * eyes_sort * has_brain * has_eyes)\n",
    "\n",
    "    sample_image = images[max_combo,:,:,:]\n",
    "    sample_mask = masks[max_combo,:,:,:]\n",
    "    \n",
    "    return sample_image, sample_mask\n",
    "\n",
    "\n",
    "sample_image, sample_mask = _find_image_with_most_variety(\n",
    "    validation_images, validation_masks\n",
    ")"
   ]
  },
  {
   "cell_type": "code",
   "execution_count": null,
   "metadata": {},
   "outputs": [],
   "source": [
    "def display(image, mask):\n",
    "    plt.figure(figsize=(18, 5))\n",
    "\n",
    "    title = ['Input Image', 'True Mask', 'Predicted Mask']\n",
    "    \n",
    "    plt.subplot(1, 3, 1)\n",
    "    plt.title('Input Image')            \n",
    "    plt.imshow(image[:,:,0])\n",
    "    plt.colorbar()\n",
    "    plt.axis('off')\n",
    "    \n",
    "    plt.subplot(1, 3, 2)\n",
    "    plt.title('True Mask')            \n",
    "    plt.imshow(mask)\n",
    "    plt.colorbar()\n",
    "    plt.axis('off')\n",
    "    \n",
    "    try:\n",
    "        precited_mask = model.predict(image[None, ...])[0, ...]\n",
    "        plt.subplot(1, 3, 3)\n",
    "        plt.title('Predicted Mask')            \n",
    "        plt.imshow(precited_mask)\n",
    "        plt.colorbar()\n",
    "        plt.axis('off')\n",
    "    except NameError:\n",
    "        pass\n",
    "        \n",
    "    plt.show()\n",
    "    \n",
    "    \n",
    "class DisplayCallback(tf.keras.callbacks.Callback):\n",
    "    def on_epoch_end(self, epoch, logs=None):\n",
    "        display(sample_image, sample_mask)\n",
    "        print ('\\nSample Prediction after epoch {}\\n'.format(epoch+1))\n",
    "    \n",
    "    \n",
    "display(sample_image, sample_mask)"
   ]
  },
  {
   "cell_type": "code",
   "execution_count": null,
   "metadata": {},
   "outputs": [],
   "source": [
    "def _activation(x):\n",
    "    x = tf.keras.layers.Activation(\"relu\")(x)\n",
    "\n",
    "    return x\n",
    "\n",
    "\n",
    "def _convolution(x, number_of_filters, kernel_size=3):\n",
    "    x = tf.keras.layers.Conv2D(\n",
    "        number_of_filters, kernel_size, padding=\"same\", kernel_initializer=\"he_normal\"\n",
    "    )(x)\n",
    "\n",
    "    return x\n",
    "\n",
    "\n",
    "def _conv_transpose(x, number_of_filters, kernel_size=3):\n",
    "    x = tf.keras.layers.Conv2DTranspose(\n",
    "        number_of_filters,\n",
    "        kernel_size,\n",
    "        strides=2,\n",
    "        padding=\"same\",\n",
    "        kernel_initializer=\"he_normal\",\n",
    "    )(x)\n",
    "\n",
    "    return x"
   ]
  },
  {
   "cell_type": "code",
   "execution_count": null,
   "metadata": {},
   "outputs": [],
   "source": [
    "def encode(\n",
    "    x,\n",
    "    number_of_filters,\n",
    "    number_of_convolutions=2,\n",
    "):\n",
    "    for _ in range(number_of_convolutions):\n",
    "        x = _convolution(x, number_of_filters)\n",
    "        x = _activation(x)\n",
    "    skip = x\n",
    "\n",
    "    x = tf.keras.layers.MaxPool2D()(x)\n",
    "    x = _activation(x)\n",
    "\n",
    "    return x, skip"
   ]
  },
  {
   "cell_type": "code",
   "execution_count": null,
   "metadata": {},
   "outputs": [],
   "source": [
    "def decode(\n",
    "    x,\n",
    "    skip,\n",
    "    number_of_filters,\n",
    "    number_of_convolutions=2,\n",
    "):\n",
    "    x = _conv_transpose(x, number_of_filters)\n",
    "    x = _activation(x)\n",
    "\n",
    "    x = tf.keras.layers.concatenate([skip, x], axis=3)\n",
    "\n",
    "    for _ in range(number_of_convolutions):\n",
    "        x = _convolution(x, number_of_filters)\n",
    "        x = _activation(x)\n",
    "\n",
    "    return x"
   ]
  },
  {
   "cell_type": "code",
   "execution_count": null,
   "metadata": {},
   "outputs": [],
   "source": [
    "mask_dims = training_masks.shape\n",
    "assert mask_dims[1] == mask_dims[2]\n",
    "grid_size = int(mask_dims[2])\n",
    "output_channels = int(mask_dims[-1])"
   ]
  },
  {
   "cell_type": "code",
   "execution_count": null,
   "metadata": {},
   "outputs": [],
   "source": [
    "inputs = tf.keras.layers.Input((grid_size, grid_size, 1))\n",
    "x = inputs\n",
    "skips = []\n",
    "\n",
    "for number_of_filters in [32, 64, 128]:\n",
    "    x, skip = encode(x, number_of_filters)\n",
    "    skips.append(skip)\n",
    "    \n",
    "skips.reverse()\n",
    "\n",
    "for number_of_filters, skip in zip([256, 128, 64], skips):\n",
    "    x = decode(x, skip, number_of_filters)\n",
    "    \n",
    "x = tf.keras.layers.Conv2D(\n",
    "    output_channels,\n",
    "    1,\n",
    "    activation=\"sigmoid\",\n",
    "    padding=\"same\",\n",
    "    kernel_initializer=\"he_normal\",\n",
    ")(x)\n",
    "\n",
    "model = tf.keras.Model(inputs=inputs, outputs=x)"
   ]
  },
  {
   "cell_type": "code",
   "execution_count": null,
   "metadata": {},
   "outputs": [],
   "source": [
    "model.summary()"
   ]
  },
  {
   "cell_type": "code",
   "execution_count": null,
   "metadata": {},
   "outputs": [],
   "source": [
    "model.compile(\n",
    "    optimizer=tf.keras.optimizers.Adam(),\n",
    "    loss=tf.keras.losses.BinaryCrossentropy(),\n",
    "    metrics=[\n",
    "        tf.keras.metrics.BinaryAccuracy(),\n",
    "        tf.keras.metrics.Recall(),\n",
    "        tf.keras.metrics.Precision()\n",
    "    ]\n",
    ")"
   ]
  },
  {
   "cell_type": "code",
   "execution_count": null,
   "metadata": {},
   "outputs": [],
   "source": [
    "history = model.fit(\n",
    "    training_images, \n",
    "    training_masks,\n",
    "    epochs=100,\n",
    "    validation_data=(validation_images, validation_masks),\n",
    "    callbacks=[DisplayCallback()]\n",
    ")"
   ]
  },
  {
   "cell_type": "code",
   "execution_count": null,
   "metadata": {},
   "outputs": [],
   "source": []
  }
 ],
 "metadata": {
  "kernelspec": {
   "display_name": "pymedphys",
   "language": "python",
   "name": "pymedphys"
  },
  "language_info": {
   "codemirror_mode": {
    "name": "ipython",
    "version": 3
   },
   "file_extension": ".py",
   "mimetype": "text/x-python",
   "name": "python",
   "nbconvert_exporter": "python",
   "pygments_lexer": "ipython3",
   "version": "3.7.9"
  }
 },
 "nbformat": 4,
 "nbformat_minor": 4
}
