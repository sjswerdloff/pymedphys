{
 "cells": [
  {
   "cell_type": "code",
   "execution_count": null,
   "metadata": {},
   "outputs": [],
   "source": [
    "import ast\n",
    "import pathlib\n",
    "\n",
    "from stdlib_list import stdlib_list"
   ]
  },
  {
   "cell_type": "code",
   "execution_count": null,
   "metadata": {},
   "outputs": [],
   "source": [
    "STDLIB = set(stdlib_list())"
   ]
  },
  {
   "cell_type": "code",
   "execution_count": null,
   "metadata": {},
   "outputs": [],
   "source": [
    "CONVERSIONS = {\n",
    "    \"attr\": \"attrs\",\n",
    "    \"PIL\": \"Pillow\",\n",
    "    \"Image\": \"Pillow\",\n",
    "    \"mpl_toolkits\": \"matplotlib\",\n",
    "    \"dateutil\": \"python_dateutil\",\n",
    "    \"skimage\": \"scikit-image\",\n",
    "    \"yaml\": \"PyYAML\",\n",
    "}"
   ]
  },
  {
   "cell_type": "code",
   "execution_count": null,
   "metadata": {},
   "outputs": [],
   "source": [
    "type(ast.parse(\"import george\").body[0])"
   ]
  },
  {
   "cell_type": "code",
   "execution_count": null,
   "metadata": {},
   "outputs": [],
   "source": [
    "type(ast.parse(\"import george as macdonald\").body[0])"
   ]
  },
  {
   "cell_type": "code",
   "execution_count": null,
   "metadata": {},
   "outputs": [],
   "source": [
    "type(ast.parse(\"from george import macdonald\").body[0]) "
   ]
  },
  {
   "cell_type": "code",
   "execution_count": null,
   "metadata": {},
   "outputs": [],
   "source": [
    "ast.Import"
   ]
  },
  {
   "cell_type": "code",
   "execution_count": null,
   "metadata": {},
   "outputs": [],
   "source": [
    "isinstance(ast.Import, ast.ImportFrom)"
   ]
  },
  {
   "cell_type": "code",
   "execution_count": null,
   "metadata": {},
   "outputs": [],
   "source": [
    "isinstance(ast.ImportFrom, ast.Import)"
   ]
  },
  {
   "cell_type": "code",
   "execution_count": null,
   "metadata": {},
   "outputs": [],
   "source": [
    "REPO_ROOT = pathlib.Path('../..').resolve()\n",
    "REPO_ROOT"
   ]
  },
  {
   "cell_type": "code",
   "execution_count": null,
   "metadata": {},
   "outputs": [],
   "source": [
    "filepath = REPO_ROOT / 'lib' / 'pymedphys' / '_streamlit' / 'apps' / 'metersetmap' / 'main.py'\n",
    "filepath"
   ]
  },
  {
   "cell_type": "code",
   "execution_count": null,
   "metadata": {},
   "outputs": [],
   "source": [
    "with open(filepath, \"r\") as file:\n",
    "    module_contents = file.read()\n",
    "    \n",
    "parsed = ast.parse(module_contents)\n",
    "all_import_nodes = [\n",
    "    node for node in ast.walk(parsed) \n",
    "    if isinstance(node, ast.Import) or isinstance(node, ast.ImportFrom)\n",
    "]\n",
    "\n",
    "import_nodes = [\n",
    "    node for node in all_import_nodes \n",
    "    if isinstance(node, ast.Import)\n",
    "]\n",
    "import_from_nodes = [\n",
    "    node for node in all_import_nodes \n",
    "    if isinstance(node, ast.ImportFrom)\n",
    "]"
   ]
  },
  {
   "cell_type": "code",
   "execution_count": null,
   "metadata": {},
   "outputs": [],
   "source": [
    "import_nodes"
   ]
  },
  {
   "cell_type": "code",
   "execution_count": null,
   "metadata": {},
   "outputs": [],
   "source": [
    "import_from_nodes"
   ]
  },
  {
   "cell_type": "code",
   "execution_count": null,
   "metadata": {},
   "outputs": [],
   "source": [
    "import_nodes[0].names[0].name"
   ]
  },
  {
   "cell_type": "code",
   "execution_count": null,
   "metadata": {},
   "outputs": [],
   "source": [
    "import_from_nodes[3].names[0].name"
   ]
  },
  {
   "cell_type": "code",
   "execution_count": null,
   "metadata": {},
   "outputs": [],
   "source": [
    "import_from_nodes[3].module"
   ]
  },
  {
   "cell_type": "code",
   "execution_count": null,
   "metadata": {},
   "outputs": [],
   "source": [
    "imports = set()\n",
    "\n",
    "for node in import_nodes:\n",
    "    for alias in node.names:\n",
    "        imports.add(alias.name)\n",
    "        \n",
    "for node in import_from_nodes:\n",
    "    if node.module is None:\n",
    "        pass\n",
    "    elif node.module.startswith('pymedphys._imports'):\n",
    "        for alias in node.names:\n",
    "            imports.add(alias.name)\n",
    "    else:\n",
    "        imports.add()"
   ]
  },
  {
   "cell_type": "code",
   "execution_count": null,
   "metadata": {},
   "outputs": [],
   "source": [
    "external_imports"
   ]
  }
 ],
 "metadata": {
  "kernelspec": {
   "display_name": "pymedphys",
   "language": "python",
   "name": "pymedphys"
  },
  "language_info": {
   "codemirror_mode": {
    "name": "ipython",
    "version": 3
   },
   "file_extension": ".py",
   "mimetype": "text/x-python",
   "name": "python",
   "nbconvert_exporter": "python",
   "pygments_lexer": "ipython3",
   "version": "3.8.6"
  }
 },
 "nbformat": 4,
 "nbformat_minor": 4
}
