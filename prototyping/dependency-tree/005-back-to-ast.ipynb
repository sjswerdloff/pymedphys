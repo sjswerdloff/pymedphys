{
 "cells": [
  {
   "cell_type": "code",
   "execution_count": null,
   "metadata": {},
   "outputs": [],
   "source": [
    "import ast\n",
    "import pathlib"
   ]
  },
  {
   "cell_type": "code",
   "execution_count": null,
   "metadata": {},
   "outputs": [],
   "source": [
    "REPO_ROOT = pathlib.Path('../..').resolve()\n",
    "LIBRARY_PATH = REPO_ROOT / 'lib'\n",
    "\n",
    "filepath = REPO_ROOT / 'lib' / 'pymedphys' / '_streamlit' / 'apps' / 'metersetmap' / 'main.py'\n",
    "relative_path = filepath.relative_to(LIBRARY_PATH)"
   ]
  },
  {
   "cell_type": "code",
   "execution_count": null,
   "metadata": {},
   "outputs": [],
   "source": [
    "CONVERSIONS = {\n",
    "    \"attr\": \"attrs\",\n",
    "    \"PIL\": \"Pillow\",\n",
    "    \"Image\": \"Pillow\",\n",
    "    \"mpl_toolkits\": \"matplotlib\",\n",
    "    \"dateutil\": \"python_dateutil\",\n",
    "    \"skimage\": \"scikit-image\",\n",
    "    \"yaml\": \"PyYAML\",\n",
    "    \"plt\": \"matplotlib\"\n",
    "}"
   ]
  },
  {
   "cell_type": "code",
   "execution_count": null,
   "metadata": {},
   "outputs": [],
   "source": [
    "with open(filepath, \"r\") as file:\n",
    "    module_contents = file.read()\n",
    "    \n",
    "parsed = ast.parse(module_contents)\n",
    "all_import_nodes = [\n",
    "    node for node in ast.walk(parsed) \n",
    "    if isinstance(node, ast.Import) or isinstance(node, ast.ImportFrom)\n",
    "]\n",
    "\n",
    "import_nodes = [\n",
    "    node for node in all_import_nodes \n",
    "    if isinstance(node, ast.Import)\n",
    "]\n",
    "import_from_nodes = [\n",
    "    node for node in all_import_nodes \n",
    "    if isinstance(node, ast.ImportFrom)\n",
    "]"
   ]
  },
  {
   "cell_type": "code",
   "execution_count": null,
   "metadata": {},
   "outputs": [],
   "source": [
    "imports = set()\n",
    "\n",
    "for node in import_nodes:\n",
    "    for alias in node.names:\n",
    "        imports.add(alias.name)\n",
    "        \n",
    "for node in import_from_nodes:\n",
    "    if node.level == 0:\n",
    "        if node.module.startswith('pymedphys._imports'):\n",
    "            for alias in node.names:\n",
    "                try:\n",
    "                    name = CONVERSIONS[alias.name]\n",
    "                except KeyError:\n",
    "                    name = alias.name\n",
    "                imports.add(name)\n",
    "        else:\n",
    "            for alias in node.names:\n",
    "                imports.add(f\"{node.module}.{alias.name}\")\n",
    "                \n",
    "    else:\n",
    "        module = '.'.join(relative_path.parts[:-node.level])\n",
    "        for alias in node.names:\n",
    "            imports.add(f\"{module}.{alias.name}\")"
   ]
  },
  {
   "cell_type": "code",
   "execution_count": null,
   "metadata": {},
   "outputs": [],
   "source": [
    "imports"
   ]
  },
  {
   "cell_type": "code",
   "execution_count": null,
   "metadata": {},
   "outputs": [],
   "source": []
  }
 ],
 "metadata": {
  "kernelspec": {
   "display_name": "pymedphys",
   "language": "python",
   "name": "pymedphys"
  },
  "language_info": {
   "codemirror_mode": {
    "name": "ipython",
    "version": 3
   },
   "file_extension": ".py",
   "mimetype": "text/x-python",
   "name": "python",
   "nbconvert_exporter": "python",
   "pygments_lexer": "ipython3",
   "version": "3.8.6"
  }
 },
 "nbformat": 4,
 "nbformat_minor": 4
}
