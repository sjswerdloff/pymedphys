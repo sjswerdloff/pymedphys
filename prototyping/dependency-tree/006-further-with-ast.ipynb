{
 "cells": [
  {
   "cell_type": "code",
   "execution_count": null,
   "metadata": {},
   "outputs": [],
   "source": [
    "import ast\n",
    "import pathlib"
   ]
  },
  {
   "cell_type": "code",
   "execution_count": null,
   "metadata": {},
   "outputs": [],
   "source": [
    "REPO_ROOT = pathlib.Path('../..').resolve()\n",
    "LIBRARY_PATH = REPO_ROOT / 'lib'\n",
    "\n",
    "CONVERSIONS = {\n",
    "    \"attr\": \"attrs\",\n",
    "    \"PIL\": \"Pillow\",\n",
    "    \"Image\": \"Pillow\",\n",
    "    \"mpl_toolkits\": \"matplotlib\",\n",
    "    \"dateutil\": \"python_dateutil\",\n",
    "    \"skimage\": \"scikit-image\",\n",
    "    \"yaml\": \"PyYAML\",\n",
    "    \"plt\": \"matplotlib\"\n",
    "}"
   ]
  },
  {
   "cell_type": "code",
   "execution_count": null,
   "metadata": {},
   "outputs": [],
   "source": [
    "def path_to_module(filepath, library_path):\n",
    "    relative_path = filepath.relative_to(library_path)\n",
    "    if relative_path.name == '__init__.py':\n",
    "        relative_path = relative_path.parent\n",
    "        \n",
    "    module_name = '.'.join(relative_path.with_suffix('').parts)\n",
    "    \n",
    "    return module_name"
   ]
  },
  {
   "cell_type": "code",
   "execution_count": null,
   "metadata": {},
   "outputs": [],
   "source": [
    "test_filepath = REPO_ROOT / 'lib' / 'pymedphys' / '_streamlit' / 'apps' / 'metersetmap' / 'main.py'\n",
    "\n",
    "path_to_module(test_filepath, LIBRARY_PATH)"
   ]
  },
  {
   "cell_type": "code",
   "execution_count": null,
   "metadata": {},
   "outputs": [],
   "source": [
    "all_filepaths = list(LIBRARY_PATH.glob(\"**/*.py\"))\n",
    "module_to_filepath_map = {\n",
    "    path_to_module(filepath, LIBRARY_PATH): filepath\n",
    "    for filepath in all_filepaths\n",
    "}\n",
    "\n",
    "# module_to_filepath_map"
   ]
  },
  {
   "cell_type": "code",
   "execution_count": null,
   "metadata": {},
   "outputs": [],
   "source": [
    "def get_file_imports(filepath, library_path, conversions):\n",
    "    relative_path = filepath.relative_to(library_path)\n",
    "    \n",
    "    with open(filepath, \"r\") as file:\n",
    "        module_contents = file.read()\n",
    "\n",
    "    parsed = ast.parse(module_contents)\n",
    "    all_import_nodes = [\n",
    "        node for node in ast.walk(parsed) \n",
    "        if isinstance(node, ast.Import) or isinstance(node, ast.ImportFrom)\n",
    "    ]\n",
    "\n",
    "    import_nodes = [\n",
    "        node for node in all_import_nodes \n",
    "        if isinstance(node, ast.Import)\n",
    "    ]\n",
    "    import_from_nodes = [\n",
    "        node for node in all_import_nodes \n",
    "        if isinstance(node, ast.ImportFrom)\n",
    "    ]\n",
    "    \n",
    "    imports = set()\n",
    "\n",
    "    for node in import_nodes:\n",
    "        for alias in node.names:\n",
    "            imports.add(alias.name)\n",
    "\n",
    "    for node in import_from_nodes:\n",
    "        if node.level == 0:\n",
    "            if node.module.startswith('pymedphys._imports'):\n",
    "                for alias in node.names:\n",
    "                    try:\n",
    "                        name = conversions[alias.name]\n",
    "                    except KeyError:\n",
    "                        name = alias.name\n",
    "                    imports.add(name)\n",
    "            else:\n",
    "                for alias in node.names:\n",
    "                    imports.add(f\"{node.module}.{alias.name}\")\n",
    "\n",
    "        else:\n",
    "            module = '.'.join(relative_path.parts[:-node.level])\n",
    "            \n",
    "            if node.module:\n",
    "                module = f\"{module}.{node.module}\"\n",
    "                \n",
    "            for alias in node.names:\n",
    "                imports.add(f\"{module}.{alias.name}\")\n",
    "                \n",
    "    return imports"
   ]
  },
  {
   "cell_type": "code",
   "execution_count": null,
   "metadata": {},
   "outputs": [],
   "source": [
    "all_modules = set(module_to_filepath_map.keys())"
   ]
  },
  {
   "cell_type": "code",
   "execution_count": null,
   "metadata": {},
   "outputs": [],
   "source": [
    "module_dependencies = {}\n",
    "\n",
    "for module, filepath in module_to_filepath_map.items():\n",
    "    raw_imports = get_file_imports(filepath, LIBRARY_PATH, CONVERSIONS)\n",
    "    imports = set()\n",
    "    for an_import in raw_imports:\n",
    "        if an_import.startswith('pymedphys'):\n",
    "            if an_import in all_modules:\n",
    "                imports.add(an_import)\n",
    "            else:\n",
    "                adjusted_import = '.'.join(an_import.split('.')[:-1])\n",
    "                if not adjusted_import in all_modules:\n",
    "                    print(an_import)\n",
    "                    print(adjusted_import)\n",
    "                    raise ValueError()\n",
    "                imports.add(adjusted_import)\n",
    "                \n",
    "        else:\n",
    "            adjusted_import = an_import.split('.')[0]\n",
    "            imports.add(adjusted_import)\n",
    "            \n",
    "    module_dependencies[module] = imports\n"
   ]
  },
  {
   "cell_type": "code",
   "execution_count": null,
   "metadata": {},
   "outputs": [],
   "source": [
    "node = [\n",
    "    node\n",
    "    for node in ast.walk(ast.parse(\"from ._vendor.deprecated import deprecated as _deprecated\"))\n",
    "    if isinstance(node, (ast.ImportFrom, ast.Import))\n",
    "][0]\n",
    "\n",
    "name = node.names[0]\n",
    "dir(name)\n",
    "\n",
    "name.asname"
   ]
  },
  {
   "cell_type": "code",
   "execution_count": null,
   "metadata": {},
   "outputs": [],
   "source": [
    "# all_modules"
   ]
  },
  {
   "cell_type": "code",
   "execution_count": null,
   "metadata": {},
   "outputs": [],
   "source": [
    "module_dependencies"
   ]
  }
 ],
 "metadata": {
  "kernelspec": {
   "display_name": "pymedphys",
   "language": "python",
   "name": "pymedphys"
  },
  "language_info": {
   "codemirror_mode": {
    "name": "ipython",
    "version": 3
   },
   "file_extension": ".py",
   "mimetype": "text/x-python",
   "name": "python",
   "nbconvert_exporter": "python",
   "pygments_lexer": "ipython3",
   "version": "3.8.6"
  }
 },
 "nbformat": 4,
 "nbformat_minor": 4
}
