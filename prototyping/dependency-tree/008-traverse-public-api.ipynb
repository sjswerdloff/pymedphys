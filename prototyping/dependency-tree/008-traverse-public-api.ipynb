{
 "cells": [
  {
   "cell_type": "code",
   "execution_count": null,
   "metadata": {},
   "outputs": [],
   "source": [
    "import networkx\n",
    "import collections"
   ]
  },
  {
   "cell_type": "code",
   "execution_count": null,
   "metadata": {},
   "outputs": [],
   "source": [
    "%load_ext autoreload\n",
    "%autoreload 2"
   ]
  },
  {
   "cell_type": "code",
   "execution_count": null,
   "metadata": {},
   "outputs": [],
   "source": [
    "from pymedphys._experimental import tree, graphviz"
   ]
  },
  {
   "cell_type": "code",
   "execution_count": null,
   "metadata": {},
   "outputs": [],
   "source": [
    "module_dependencies = tree.get_module_dependencies()\n",
    "internal_modules = set(module_dependencies.keys())"
   ]
  },
  {
   "cell_type": "code",
   "execution_count": null,
   "metadata": {},
   "outputs": [],
   "source": [
    "root = 'pymedphys'\n",
    "\n",
    "top_level_api = [item for item in module_dependencies[root] if not item[2].startswith('_')]\n",
    "module_apis = [item[0] for item in top_level_api if item[0] == item[1]]\n",
    "\n",
    "second_level_apis = {}\n",
    "for module in module_apis:\n",
    "    second_level_apis[module] = [item for item in module_dependencies[module] if not item[2].startswith('_')]\n",
    "    \n",
    "exposure_module_maps = {\n",
    "    f\"{root}.{item[2]}\": item[1] for item in top_level_api if item[0] != item[1]\n",
    "}\n",
    "\n",
    "for module, second_level_api in second_level_apis.items():\n",
    "    exposure_module_maps = {\n",
    "        **exposure_module_maps,\n",
    "        **{f\"{module}.{item[2]}\": item[1] for item in second_level_api}        \n",
    "    }\n",
    "\n",
    "exposure_module_maps"
   ]
  },
  {
   "cell_type": "code",
   "execution_count": null,
   "metadata": {},
   "outputs": [],
   "source": [
    "def create_svg(api_names, module_name, href, module_dependencies, internal_modules):\n",
    "    di_graph = networkx.DiGraph()\n",
    "    di_graph.add_node(module_name)\n",
    "    traversal_nodes = {module_name}\n",
    "    \n",
    "    while traversal_nodes:\n",
    "        node = traversal_nodes.pop()\n",
    "        raw_dependencies = module_dependencies[node]\n",
    "\n",
    "        for dependency in raw_dependencies:\n",
    "            if (\n",
    "                not dependency[2].startswith('_') and\n",
    "                not dependency[1] in di_graph and\n",
    "                dependency[1] in internal_modules\n",
    "            ):\n",
    "                traversal_nodes.add(dependency[1])\n",
    "                di_graph.add_node(dependency[1])\n",
    "                di_graph.add_edge(node, dependency[1])\n",
    "                \n",
    "    for api_name in api_names:\n",
    "        di_graph.add_node(api_name)\n",
    "        di_graph.add_edge(api_name, module_name)\n",
    "                \n",
    "    edges = \"\"\n",
    "    for edge in di_graph.edges:\n",
    "        edges = edges + f'\"{edge[0]}\" -> \"{edge[1]}\";\\n'\n",
    "        \n",
    "    graphviz.dot_string_to_svg(\n",
    "        f\"\"\"\n",
    "            digraph sample {{\n",
    "                {{\n",
    "                    node [shape=rectangle];\n",
    "                }}\n",
    "                rankdir = LR;\n",
    "                {edges}\n",
    "            }}\n",
    "        \"\"\", \n",
    "        f'{module_name}.svg'\n",
    "    )"
   ]
  },
  {
   "cell_type": "code",
   "execution_count": null,
   "metadata": {},
   "outputs": [],
   "source": [
    "api_name, module_name = list(exposure_module_maps.items())[0]\n",
    "api_name, module_name"
   ]
  },
  {
   "cell_type": "code",
   "execution_count": null,
   "metadata": {},
   "outputs": [],
   "source": [
    "exposure_module_maps"
   ]
  },
  {
   "cell_type": "code",
   "execution_count": null,
   "metadata": {},
   "outputs": [],
   "source": [
    "module_api_map = collections.defaultdict(lambda: [])\n",
    "for key, item in exposure_module_maps.items():\n",
    "    module_api_map[item].append(key)\n",
    "    \n",
    "module_api_map"
   ]
  },
  {
   "cell_type": "code",
   "execution_count": null,
   "metadata": {},
   "outputs": [],
   "source": [
    "href=\"https://github.com/pymedphys/pymedphys/tree/main/lib/pymedphys\""
   ]
  },
  {
   "cell_type": "code",
   "execution_count": null,
   "metadata": {},
   "outputs": [],
   "source": [
    "# create_svg(api_name, module_name, href, module_dependencies, internal_modules)"
   ]
  },
  {
   "cell_type": "code",
   "execution_count": null,
   "metadata": {},
   "outputs": [],
   "source": [
    "module_api_map"
   ]
  },
  {
   "cell_type": "code",
   "execution_count": null,
   "metadata": {},
   "outputs": [],
   "source": [
    "for module_name, api_names in module_api_map.items():\n",
    "    create_svg(api_names, module_name, module_dependencies, internal_modules)"
   ]
  },
  {
   "cell_type": "code",
   "execution_count": null,
   "metadata": {},
   "outputs": [],
   "source": [
    "# internal_modules"
   ]
  }
 ],
 "metadata": {
  "kernelspec": {
   "display_name": "pymedphys",
   "language": "python",
   "name": "pymedphys"
  },
  "language_info": {
   "codemirror_mode": {
    "name": "ipython",
    "version": 3
   },
   "file_extension": ".py",
   "mimetype": "text/x-python",
   "name": "python",
   "nbconvert_exporter": "python",
   "pygments_lexer": "ipython3",
   "version": "3.8.6"
  }
 },
 "nbformat": 4,
 "nbformat_minor": 4
}
