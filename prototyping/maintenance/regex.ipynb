{
 "cells": [
  {
   "cell_type": "code",
   "execution_count": null,
   "id": "accurate-martial",
   "metadata": {},
   "outputs": [],
   "source": [
    "error = \"\"\"\\\n",
    "Traceback (most recent call last):\n",
    "  File \"<string>\", line 1, in <module>\n",
    "  File \"/tmp/tmp9ghq3pig/lib/python3.8/site-packages/pymedphys/_streamlit/utilities/misc.py\", line 7, in <module>\n",
    "    from . import config as _config\n",
    "  File \"/tmp/tmp9ghq3pig/lib/python3.8/site-packages/pymedphys/_streamlit/utilities/config.py\", line 27, in <module>\n",
    "    @st.cache\n",
    "  File \"/tmp/tmp9ghq3pig/lib/python3.8/site-packages/pymedphys/_vendor/apipkg/__init__.py\", line 238, in __getattribute__\n",
    "    return getattr(getmod(), name)\n",
    "  File \"/tmp/tmp9ghq3pig/lib/python3.8/site-packages/pymedphys/_vendor/apipkg/__init__.py\", line 216, in getmod\n",
    "    x = importobj(modpath, None)\n",
    "  File \"/tmp/tmp9ghq3pig/lib/python3.8/site-packages/pymedphys/_vendor/apipkg/__init__.py\", line 103, in importobj\n",
    "    module = __import__(modpath, None, None, [\"__doc__\"])\n",
    "ModuleNotFoundError: No module named 'streamlit'\n",
    "\"\"\""
   ]
  },
  {
   "cell_type": "code",
   "execution_count": null,
   "id": "funded-solid",
   "metadata": {},
   "outputs": [],
   "source": [
    "import re\n",
    "import os"
   ]
  },
  {
   "cell_type": "code",
   "execution_count": null,
   "id": "shaped-behavior",
   "metadata": {},
   "outputs": [],
   "source": [
    "import itertools"
   ]
  },
  {
   "cell_type": "code",
   "execution_count": null,
   "id": "legitimate-metadata",
   "metadata": {},
   "outputs": [],
   "source": [
    "re.search('apipkg', error)"
   ]
  },
  {
   "cell_type": "code",
   "execution_count": null,
   "id": "involved-drinking",
   "metadata": {},
   "outputs": [],
   "source": [
    "error_list = error.split('\\n')\n",
    "error_list"
   ]
  },
  {
   "cell_type": "code",
   "execution_count": null,
   "id": "bound-trouble",
   "metadata": {},
   "outputs": [],
   "source": [
    "[False].index(True)"
   ]
  },
  {
   "cell_type": "code",
   "execution_count": null,
   "id": "actual-startup",
   "metadata": {},
   "outputs": [],
   "source": [
    "has_apipkg = ['apipkg' in item for item in error_list]\n",
    "has_apipkg"
   ]
  },
  {
   "cell_type": "code",
   "execution_count": null,
   "id": "handed-lindsay",
   "metadata": {},
   "outputs": [],
   "source": [
    "i = has_apipkg.index(True)"
   ]
  },
  {
   "cell_type": "code",
   "execution_count": null,
   "id": "cloudy-consideration",
   "metadata": {},
   "outputs": [],
   "source": [
    "error_list[i-2:i]"
   ]
  },
  {
   "cell_type": "code",
   "execution_count": null,
   "id": "aquatic-sight",
   "metadata": {},
   "outputs": [],
   "source": [
    "module = re.search(\"(pymedphys.*)\\.py\", error_list[i-2]).group(1).replace(os.sep, '.').replace('-', '_')\n",
    "module"
   ]
  },
  {
   "cell_type": "code",
   "execution_count": null,
   "id": "enormous-locking",
   "metadata": {},
   "outputs": [],
   "source": [
    "line = re.search(\"line (\\d+),\", error_list[i-2]).group(1)\n",
    "line"
   ]
  },
  {
   "cell_type": "code",
   "execution_count": null,
   "id": "written-secretary",
   "metadata": {},
   "outputs": [],
   "source": [
    "\n",
    "\n",
    "next(filter(lambda item: 'apipkg' in item, error_list))"
   ]
  }
 ],
 "metadata": {
  "kernelspec": {
   "display_name": "Python 3",
   "language": "python",
   "name": "python3"
  },
  "language_info": {
   "codemirror_mode": {
    "name": "ipython",
    "version": 3
   },
   "file_extension": ".py",
   "mimetype": "text/x-python",
   "name": "python",
   "nbconvert_exporter": "python",
   "pygments_lexer": "ipython3",
   "version": "3.8.7"
  }
 },
 "nbformat": 4,
 "nbformat_minor": 5
}
