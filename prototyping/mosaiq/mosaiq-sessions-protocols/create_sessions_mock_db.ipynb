{
 "cells": [
  {
   "cell_type": "markdown",
   "metadata": {},
   "source": [
    "# Mock Mosaiq DB for testing session offset logic\n",
    "This notebook uses the [pandas.DataFrame.to_sql](https://pandas.pydata.org/pandas-docs/stable/reference/api/pandas.DataFrame.to_sql.html) function to create a mock database with slimmed-down Site, Offset, and Dose_Hst tables.  These DataFrames are populated from randomly generated data.\n",
    "\n",
    "NOTE: that this functionality is implemented in pymedphys.tests.mosaiq.create_mock_data"
   ]
  },
  {
   "cell_type": "markdown",
   "metadata": {},
   "source": [
    "## Define protocols and treatment techniques\n",
    "For each mock tx sites, randomly chosen:\n",
    "* number of fractions\n",
    "* treatment techniques, which determines the number of fields\n",
    "* trending/imaging protocols, encoded in the Site Notes column\n",
    "\n",
    "There are three trending/imaging protocols defined:\n",
    "* weekly verification imaging -- for example imaging every Friday.  assumes that a session offset is created to record the magnitude of the shift\n",
    "* daily imaging -- image daily and compute a session offset\n",
    "* NAL protocol -- image daily and compute session offset for the first 4 sessions, then weekly verification.  \n",
    "\n",
    "Each protocol is characterized by the probability of a session offset being generated for each session.  This probability changes for the NAL protocol, so a function of session number is defined for each protocol.\n",
    "\n",
    "See Lozano, Eva M., et al. \"Correction of systematic set-up error in breast and head and neck irradiation through a no-action level (NAL) protocol.\" Clinical and Translational Oncology 13.1 (2011): 34-42."
   ]
  },
  {
   "cell_type": "code",
   "execution_count": null,
   "metadata": {},
   "outputs": [],
   "source": [
    "# vary the number of fractions a bit\n",
    "number_of_fractions = [20, 25, 30]\n",
    "\n",
    "# dict that represents the number of fields for a few named techniques\n",
    "field_count_by_technique_names = {\n",
    "    '4-fld': 4, \n",
    "    '5-fld': 5, \n",
    "    '7-fld': 7 \n",
    "}\n",
    "\n",
    "# dict of functions that return the percent of sessions \n",
    "# with an offset, as a function of session number\n",
    "prob_offset_by_protocol = {\n",
    "    'weekly': lambda _: 20,  # always 20% ~ once per week\n",
    "    'daily': lambda _: 90,   # always 90% ~ daily, with occasional misses\n",
    "    'nal': lambda session_num: 95 if session_num <= 4 else 20\n",
    "}"
   ]
  },
  {
   "cell_type": "markdown",
   "metadata": {},
   "source": [
    "Given these definitions, generate a list of sites by randomly choosing the protocol, treatment technique, and number of fractions.\n",
    "\n",
    "Encode the sites on a pandas DataFrame, and then add the columns to support the Mosaiq versioned entity for sites (i.e. SIT_SET_ID and Version)."
   ]
  },
  {
   "cell_type": "code",
   "execution_count": null,
   "metadata": {},
   "outputs": [],
   "source": [
    "import pandas as pd\n",
    "from random import randint, choices\n",
    "from datetime import datetime, timedelta\n",
    "from decimal import Decimal\n",
    "\n",
    "site_count = 10   # how many site records to create?\n",
    "\n",
    "# the site notes contain the choice of protocol\n",
    "site_notes = choices(list(prob_offset_by_protocol.keys()),\n",
    "                     weights=[1,1,1], k=site_count)\n",
    "\n",
    "# the treatment technique is chosen from the list of keys\n",
    "site_techniques = choices(list(field_count_by_technique_names.keys()), \n",
    "                          weights=[2,1,3], k=site_count)\n",
    "\n",
    "# choose the number of fractions\n",
    "site_fractions = choices(number_of_fractions, \n",
    "                        weights=[1,2,3], k=site_count)\n",
    "\n",
    "# now create the dataframe\n",
    "site_df = pd.DataFrame(zip(site_notes, site_techniques, site_fractions),\n",
    "                        columns=['Notes', 'Technique', 'Fractions'])\n",
    "site_df.index += 1   # index = SIT_ID, so start from 1\n",
    "site_df['Pat_ID1'] = site_df.index + 10000   # use the SIT_ID+10000 as the Pat_ID1\n",
    "site_df['SIT_SET_ID'] = site_df.index\n",
    "site_df['Version'] = 0\n",
    "site_df['Site_Name'] = 'rx1'\n",
    "display(site_df)"
   ]
  },
  {
   "cell_type": "markdown",
   "metadata": {},
   "source": [
    "## Generate treatment records for each site\n",
    "For each site we pick a time to begin the treatment sessions, and then start generating sessions (Dose_Hst and Offset) based on the site parameters.\n",
    "\n",
    "The sessions are formed based on both a starting date and an appointment time.\n",
    "* Treatments occur at roughly the same time each workday\n",
    "* Offsets happen at a frequency determined by the specified protocol\n",
    "* Offset shift values are randomly generated\n",
    "* Dose_Hst records are created based on the number of fractions, with randomly generated FLD_IDs"
   ]
  },
  {
   "cell_type": "code",
   "execution_count": null,
   "metadata": {},
   "outputs": [],
   "source": [
    "import re\n",
    "from decimal import Decimal\n",
    "\n",
    "# lists to store the offsets and dose_hst records\n",
    "offset_recs, dose_hst_recs = [], []\n",
    "\n",
    "# iterate over the rows in the site dataframe\n",
    "for sit_id, site_rec in site_df.iterrows():\n",
    "    # extract site description from the record\n",
    "    pat_id1 = site_rec['Pat_ID1']\n",
    "    sit_set_id = site_rec['SIT_SET_ID']\n",
    "    fractions = site_rec['Fractions']\n",
    "    protocol = re.match('([a-z]*)',site_rec['Notes']).groups()[0]\n",
    "    fld_count = field_count_by_technique_names[site_rec['Technique']]\n",
    "    fld_ids = [randint(1000,4000) for _ in range(fld_count)]\n",
    "    \n",
    "    # pick a date for beginning the treatment, as a workday number in the year\n",
    "    session_workday = randint(0,200)\n",
    "    # pick the appointment time between 8AM and 5pm\n",
    "    appointment_time = timedelta(hours=randint(8,17))\n",
    "    for n in range(fractions):\n",
    "        # determine the session date for the current workday\n",
    "        session_date_str = f\"2021-W{session_workday//5+1}-{session_workday%5+1}\"\n",
    "        session_date = datetime.strptime(session_date_str, '%Y-W%W-%w')\n",
    "        \n",
    "        # and add the appointment time\n",
    "        session_time = session_date + appointment_time\n",
    "        \n",
    "        # choose whether to generate an offset record\n",
    "        if randint(0,100) < prob_offset_by_protocol[protocol](n):\n",
    "            session_time += timedelta(minutes=randint(2,5))\n",
    "            offset_recs.append((sit_set_id, session_time,\n",
    "                                1, # Offset_State: 1=Active, 2=Complete\n",
    "                                3, # Offset_Type: 3=Portal, 4=ThirdParty\n",
    "                                Decimal(randint(-50, 50))/10, # Superior_Offset\n",
    "                                Decimal(randint(-50, 50))/10, # Anterior_Offset\n",
    "                                Decimal(randint(-50, 50))/10  # Lateral_Offset\n",
    "                               ))\n",
    "            \n",
    "        # generate dose_hst by field count\n",
    "        for fld_id in fld_ids:\n",
    "            session_time += timedelta(minutes=randint(3,6))\n",
    "            dose_hst_recs.append((pat_id1, sit_id, fld_id, session_time))\n",
    "\n",
    "        # occasionally skip a workday\n",
    "        session_workday += 1 if randint(0,5) else 2\n",
    "\n",
    "print(f\"Generated {len(offset_recs)} offsets \"\n",
    "      f\"and {len(dose_hst_recs)} dose_hst records\")"
   ]
  },
  {
   "cell_type": "markdown",
   "metadata": {},
   "source": [
    "Create the Dose_Hst dataframe with appropriate column names and primary key."
   ]
  },
  {
   "cell_type": "code",
   "execution_count": null,
   "metadata": {},
   "outputs": [],
   "source": [
    "dose_hst_df = pd.DataFrame(dose_hst_recs, \n",
    "                           columns=['Pat_ID1', 'SIT_ID', 'FLD_ID', 'Tx_DtTm'])\n",
    "dose_hst_df.index += 1  # start ID at 1\n",
    "display(dose_hst_df)"
   ]
  },
  {
   "cell_type": "markdown",
   "metadata": {},
   "source": [
    "Create the Offset dataframe with the versioned entity columns and the three translational offset components."
   ]
  },
  {
   "cell_type": "code",
   "execution_count": null,
   "metadata": {},
   "outputs": [],
   "source": [
    "offset_df = pd.DataFrame(offset_recs, \n",
    "                         columns=[\n",
    "                             'SIT_SET_ID', \n",
    "                             'Study_DtTm',\n",
    "                             'Offset_State',\n",
    "                             'Offset_Type',\n",
    "                             'Superior_Offset', \n",
    "                             'Anterior_Offset', \n",
    "                             'Lateral_Offset'])\n",
    "offset_df.index += 1  # start ID at 1\n",
    "offset_df['OFF_SET_ID'] = offset_df.index\n",
    "offset_df['Version'] = [0] * len(offset_df)\n",
    "display(offset_df)"
   ]
  },
  {
   "cell_type": "markdown",
   "metadata": {},
   "source": [
    "## Populate SQL tables for Site, Offset, and Dose_Hst\n",
    "Using the pandas [DataFrame.to_sql](https://pandas.pydata.org/pandas-docs/stable/reference/api/pandas.DataFrame.to_sql.html) function, populate tables from the dataframes, initially in a database name *MosaiqTest94086* (to avoiding conflicting with an existing Mosaiq DB)\n",
    "* Site from site_df\n",
    "* Offset from offset_df\n",
    "* Dose_Hst from dose_hst_df"
   ]
  },
  {
   "cell_type": "code",
   "execution_count": null,
   "metadata": {},
   "outputs": [],
   "source": [
    "from sqlalchemy import create_engine\n",
    "\n",
    "msq_server = '.'\n",
    "test_db_name = 'MosaiqTest94086'\n",
    "conn_str = f\"mssql+pymssql://{msq_server}/{test_db_name}\"\n",
    "\n",
    "engine = create_engine(conn_str, echo=False)\n",
    "\n",
    "site_df.to_sql('Site', engine, if_exists='replace', index=True, index_label='SIT_ID')\n",
    "offset_df.to_sql('Offset', engine, if_exists='replace', index=True, index_label='OFF_ID')\n",
    "dose_hst_df.to_sql('Dose_Hst', engine, if_exists='replace', index=True, index_label='DHS_ID')"
   ]
  },
  {
   "cell_type": "markdown",
   "metadata": {},
   "source": [
    "## Query for Sites\n",
    "With the test database populated, pymedphys can be used to query for sites in the Site table, selecting only the tip version.  \n",
    "\n",
    "For each site display SIT_ID, SIT_SET_ID, Site_Name, and Notes (which should be the protocol)."
   ]
  },
  {
   "cell_type": "code",
   "execution_count": null,
   "metadata": {},
   "outputs": [],
   "source": [
    "from pymedphys import mosaiq\n",
    "\n",
    "connection = mosaiq.connect(msq_server, database=test_db_name)\n",
    "result = mosaiq.execute(\n",
    "    connection,\n",
    "    \"\"\"\n",
    "    SELECT \n",
    "        SIT_ID, \n",
    "        SIT_SET_ID, \n",
    "        Site_Name,\n",
    "        Notes\n",
    "    FROM Site \n",
    "    WHERE \n",
    "        Version = 0\n",
    "    \"\"\")\n",
    "\n",
    "for site in result:\n",
    "    sit_id, sit_set_id = site[0], site[1]\n",
    "    print(f\"SIT_ID:{sit_id}  SIT_SET_ID:{sit_set_id}  Site_Name:{site[2]}  Notes:{site[3]}\")"
   ]
  },
  {
   "cell_type": "markdown",
   "metadata": {},
   "source": [
    "Now that the database is ready, try the [demo_session_offsets](./demo_session_offsets.ipynb) notebook to look at some more complex logic."
   ]
  },
  {
   "cell_type": "code",
   "execution_count": null,
   "metadata": {},
   "outputs": [],
   "source": []
  }
 ],
 "metadata": {
  "kernelspec": {
   "display_name": "pymedphys",
   "language": "python",
   "name": "pymedphys"
  },
  "language_info": {
   "codemirror_mode": {
    "name": "ipython",
    "version": 3
   },
   "file_extension": ".py",
   "mimetype": "text/x-python",
   "name": "python",
   "nbconvert_exporter": "python",
   "pygments_lexer": "ipython3",
   "version": "3.8.6"
  }
 },
 "nbformat": 4,
 "nbformat_minor": 4
}
