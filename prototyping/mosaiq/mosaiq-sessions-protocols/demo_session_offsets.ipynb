{
 "cells": [
  {
   "cell_type": "markdown",
   "metadata": {},
   "source": [
    "## Query for a Demo Site\n",
    "Start by querying a site for a patient with known session data (i.e. Dose_Hst records).  We will fetch the first site for the patient and store the SIT_ID and SIT_SET_ID for subsequent queries."
   ]
  },
  {
   "cell_type": "code",
   "execution_count": null,
   "metadata": {},
   "outputs": [],
   "source": [
    "from pymedphys import mosaiq\n",
    "msq_server, test_db_name, pat_id1 = '.', 'MosaiqTest94086', 10003\n",
    "\n",
    "connection = mosaiq.connect(msq_server, database=test_db_name)\n",
    "sites = mosaiq.execute(\n",
    "    connection,\n",
    "    \"\"\"\n",
    "    SELECT \n",
    "        SIT_ID, \n",
    "        SIT_SET_ID, \n",
    "        Site_Name,\n",
    "        Notes\n",
    "    FROM Site \n",
    "    WHERE \n",
    "        Version = 0 \n",
    "        AND Pat_ID1 = %(pat_id1)s\n",
    "    \"\"\",\n",
    "    { \"pat_id1\": pat_id1 })\n",
    "\n",
    "sit_id, sit_set_id = sites[0][0], sites[0][1]\n",
    "print(f\"SIT_ID:{sit_id}  SIT_SET_ID:{sit_set_id}  Site_Name:{sites[0][2]}  Notes:{sites[0][3]}\")"
   ]
  },
  {
   "cell_type": "markdown",
   "metadata": {},
   "source": [
    "## Query for Dose_Hst\n",
    "For the select site, query for Dose_Hst records that are associated via SIT_ID.  List the first ten of the Dose_Hst records.\n",
    "\n",
    "Dose_Hst is not a versioned entity, so no need to get the tip versions."
   ]
  },
  {
   "cell_type": "code",
   "execution_count": null,
   "metadata": {},
   "outputs": [],
   "source": [
    "import pprint as pprint\n",
    "\n",
    "dose_hsts = mosaiq.execute(\n",
    "    connection,\n",
    "    \"\"\"\n",
    "    SELECT \n",
    "        Tx_DtTm\n",
    "    FROM Dose_Hst \n",
    "    WHERE \n",
    "        Dose_Hst.SIT_ID = %(sit_id)s\n",
    "    ORDER BY Tx_DtTm\n",
    "    \"\"\", \n",
    "    { \"sit_id\": sit_id })\n",
    "\n",
    "dose_hst_datetimes = [dose_hst[0].strftime('%Y-%m-%d %H:%M') \n",
    "                    for dose_hst in dose_hsts]\n",
    "print(f\"Dose_Hst records for site {sites[0][2]}:\")\n",
    "pprint.pprint(dose_hst_datetimes[:10])"
   ]
  },
  {
   "cell_type": "markdown",
   "metadata": {},
   "source": [
    "## Cluster Dose_Hst in to sessions\n",
    "Mosaiq's data schema doesn't explicitly group Dose_Hst and Offset records in to sessions/fractions, but a simple clustering trick is generally enough to form the sessions.\n",
    "\n",
    "The ```cluster_sessions``` function uses a [hierarchical clustering algorithm](https://scikit-learn.org/stable/modules/generated/sklearn.cluster.AgglomerativeClustering.html) to cluster the Dose_Hst records.  \n",
    "\n",
    "To demonstrate the clustering, generate a list of irregularly spaced datetimes to pass to ```cluster_sessions```, which will return a tuple for each session of:\n",
    "* session number (from 1)\n",
    "* session start date/time\n",
    "* session end date/time"
   ]
  },
  {
   "cell_type": "code",
   "execution_count": null,
   "metadata": {},
   "outputs": [],
   "source": [
    "from pymedphys._mosaiq.sessions import cluster_sessions\n",
    "from datetime import datetime, timedelta\n",
    "\n",
    "test_datetimes = [datetime.now() + timedelta(hours=h*5 + j) \n",
    "                    for h in range(3) for j in range(3)]\n",
    "\n",
    "print('Mock tx date/times:')\n",
    "for datetime in test_datetimes: \n",
    "    print('\\t', str(datetime))\n",
    "\n",
    "print(f\"\\nClustered in to sessions with {3} hour inverval:\")\n",
    "for session in cluster_sessions(test_datetimes, interval=timedelta(hours=3)):\n",
    "    print(f\"\\tSession#{session[0]}: {str(session[1])} to {str(session[2])}\")"
   ]
  },
  {
   "cell_type": "markdown",
   "metadata": {},
   "source": [
    "The sessions for the queried site can now be created using the ```sessions_for_site``` function, which first queries for Dose_Hst records, and then calls ```cluster_sessions``` on the Dose_Hst.Tx_DtTm."
   ]
  },
  {
   "cell_type": "code",
   "execution_count": null,
   "metadata": {},
   "outputs": [],
   "source": [
    "from pymedphys._mosaiq.sessions import sessions_for_site\n",
    "\n",
    "print(f\"Dose_Hst.Tx_DtTm-based session intervals \"\n",
    "      f\"for SIT_SET_ID = {sit_set_id} in Msq db:\")\n",
    "for session in sessions_for_site(connection, sit_set_id):\n",
    "    print(f\"\\tSession#{session[0]}: {str(session[1])} to {str(session[2])}\")"
   ]
  },
  {
   "cell_type": "markdown",
   "metadata": {},
   "source": [
    "## Session Offsets\n",
    "Now that we can get the sessions for a site, we can also query to find any Offsets that occur within a +/- 1 hour time window of the session interval.  This is done by the ```session_offsets_for_site``` function.\n",
    "\n",
    "Session offsets are returned by a generator as a tuple of Session Number and Offset values.  If no Offset falls within the window for a session, then None is returned for the offset member of the tuple."
   ]
  },
  {
   "cell_type": "code",
   "execution_count": null,
   "metadata": {},
   "outputs": [],
   "source": [
    "from pymedphys._mosaiq.sessions import session_offsets_for_site\n",
    "\n",
    "print(f\"Offset records for SIT_SET_ID {sit_set_id}\")    \n",
    "for session_num, offset in session_offsets_for_site(\n",
    "    connection, sit_set_id, interval=timedelta(hours=1)\n",
    "):\n",
    "    if offset:\n",
    "        print(f\"\\tSession#{session_num}: \"\n",
    "            f\"{offset[0].strftime('%Y-%m-%d %H:%M')}: \"\n",
    "            f\"{offset[1]}/{offset[2]}/{offset[3]}\")\n",
    "    else:\n",
    "        print(f\"\\tSession#{session_num}: no session offsets\")"
   ]
  },
  {
   "cell_type": "code",
   "execution_count": null,
   "metadata": {},
   "outputs": [],
   "source": []
  }
 ],
 "metadata": {
  "kernelspec": {
   "display_name": "pymedphys",
   "language": "python",
   "name": "pymedphys"
  },
  "language_info": {
   "codemirror_mode": {
    "name": "ipython",
    "version": 3
   },
   "file_extension": ".py",
   "mimetype": "text/x-python",
   "name": "python",
   "nbconvert_exporter": "python",
   "pygments_lexer": "ipython3",
   "version": "3.8.6-final"
  }
 },
 "nbformat": 4,
 "nbformat_minor": 4
}
