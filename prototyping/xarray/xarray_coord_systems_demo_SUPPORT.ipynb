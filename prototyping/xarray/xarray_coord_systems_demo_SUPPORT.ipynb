{
 "cells": [
  {
   "cell_type": "code",
   "execution_count": null,
   "metadata": {},
   "outputs": [],
   "source": [
    "from matplotlib import pyplot as plt\n",
    "import numpy as np\n",
    "import pydicom\n",
    "import xarray as xr"
   ]
  },
  {
   "cell_type": "code",
   "execution_count": null,
   "metadata": {},
   "outputs": [],
   "source": [
    "from pymedphys._data import download\n",
    "from pymedphys._dicom import constants, coords, dose\n",
    "\n",
    "import xdose"
   ]
  },
  {
   "cell_type": "code",
   "execution_count": null,
   "metadata": {},
   "outputs": [],
   "source": [
    "dicom_dose_filepaths = {orient: download.get_file_within_data_zip(\n",
    "    \"dicomorient_doses_only.zip\", f\"RD.DICOMORIENT.Dose_{orient}.dcm\"\n",
    ") for orient in constants.IMAGE_ORIENTATION_MAP}\n",
    "\n",
    "rtdoses_by_orient = {orient: pydicom.dcmread(dicom_dose_filepaths[orient]) for orient in constants.IMAGE_ORIENTATION_MAP}"
   ]
  },
  {
   "cell_type": "markdown",
   "metadata": {},
   "source": [
    "## Get zoomed xdoses of a coffee cup for each standard orientation with coordinates specified in the IEC SUPPORT coordinate system\n",
    "\n",
    "- For each orientation, the coffee cup was scanned such that its opening points anteriorly and its handle points inferiorly. Use this convention to confirm correct display in plots below."
   ]
  },
  {
   "cell_type": "code",
   "execution_count": null,
   "metadata": {},
   "outputs": [],
   "source": [
    "xdoses_by_orient = {orient: xdose.xdose_from_dataset(rtdoses_by_orient[orient], name=f\"Dose {orient}\", coord_system=\"S\")  for orient in constants.IMAGE_ORIENTATION_MAP}\n",
    "\n",
    "extent_kwargs = {\n",
    "    \"x_start\": -60,\n",
    "    \"x_end\": 60,\n",
    "    \"y_start\": -1050,\n",
    "    \"y_end\": -1250,\n",
    "    \"z_start\": 60,\n",
    "    \"z_end\": -60,\n",
    "}\n",
    "xdoses_by_orient_zoomed = {orient: xdose.zoom(xd, **extent_kwargs) for orient, xd in xdoses_by_orient.items()}"
   ]
  },
  {
   "cell_type": "markdown",
   "metadata": {},
   "source": [
    "## Plot xdoses for each orientation in the IEC SUPPORT coordinate system.\n",
    "\n",
    "- The Transverse view is displayed as if the viewer is upright, located at the foot of the table and looking toward the gantry.\n",
    "- The Sagittal view is displayed as if the viewer is upright, located at the table from one side, where the gantry is on the viewer's right.\n",
    "- The Coronal view is displayed as if the viewer is looking at the table from above, where the gantry is ahead of the viewer (the top of the field of view points to the gantry).\n",
    "\n",
    "### Note the following axis directions in each view for the IEC SUPPORT system:\n",
    "- Transverse:\n",
    "    - x should be increasing toward the right (HFS patient left)\n",
    "    - z should be increasing upward (HFS patient anterior)\n",
    "\n",
    "- Sagittal:\n",
    "    - y should be increasing toward the right (HFS patient superior)\n",
    "    - z should be increasing upward (HFS patient anterior)\n",
    "    \n",
    "- Coronal:\n",
    "    - x should be increasing toward the right (HFS patient left)\n",
    "    - y should be increasing upward (HFS patient superior)\n"
   ]
  },
  {
   "cell_type": "code",
   "execution_count": null,
   "metadata": {},
   "outputs": [],
   "source": [
    "centre_point = (0, -1157, 0)\n",
    "\n",
    "for orient, xd in xdoses_by_orient_zoomed.items():\n",
    "    xdose.plot_xdose_tcs_at_point(xdose_to_plot=xd, point=centre_point)"
   ]
  }
 ],
 "metadata": {
  "kernelspec": {
   "display_name": "Python 3.7.9 64-bit",
   "metadata": {
    "interpreter": {
     "hash": "d9ce22c6de45e42563a5ae00e2d764113bb10dc3ac2e1e635a628c0814045e6a"
    }
   },
   "name": "python3"
  },
  "language_info": {
   "codemirror_mode": {
    "name": "ipython",
    "version": 3
   },
   "file_extension": ".py",
   "mimetype": "text/x-python",
   "name": "python",
   "nbconvert_exporter": "python",
   "pygments_lexer": "ipython3",
   "version": "3.7.9-final"
  }
 },
 "nbformat": 4,
 "nbformat_minor": 2
}
