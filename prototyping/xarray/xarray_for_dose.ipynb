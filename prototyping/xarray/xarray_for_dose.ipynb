{
 "cells": [
  {
   "cell_type": "code",
   "execution_count": null,
   "metadata": {},
   "outputs": [],
   "source": [
    "from matplotlib import pyplot as plt\n",
    "import numpy as np\n",
    "import pydicom\n",
    "import xarray as xr"
   ]
  },
  {
   "cell_type": "code",
   "execution_count": null,
   "metadata": {},
   "outputs": [],
   "source": [
    "from pymedphys._data import download\n",
    "from pymedphys._dicom import constants, coords, dose\n",
    "\n",
    "import xdose"
   ]
  },
  {
   "cell_type": "code",
   "execution_count": null,
   "metadata": {},
   "outputs": [],
   "source": [
    "dicom_dose_filepaths = {orient: download.get_file_within_data_zip(\n",
    "    \"dicomorient_doses_only.zip\", f\"RD.DICOMORIENT.Dose_{orient}.dcm\"\n",
    ") for orient in constants.IMAGE_ORIENTATION_MAP}\n",
    "\n",
    "rtdoses_by_orient = {orient: pydicom.dcmread(dicom_dose_filepaths[orient]) for orient in constants.IMAGE_ORIENTATION_MAP}"
   ]
  },
  {
   "cell_type": "code",
   "execution_count": null,
   "metadata": {},
   "outputs": [],
   "source": [
    "xdoses_by_orient = {orient: xdose.xdose_from_dataset(rtdoses_by_orient[orient], name=f\"Dose {orient}\", coord_system=\"S\")  for orient in constants.IMAGE_ORIENTATION_MAP if orient == \"HFS\"}\n",
    "\n",
    "xdoses_by_orient[\"HFS\"]"
   ]
  },
  {
   "cell_type": "code",
   "execution_count": null,
   "metadata": {},
   "outputs": [],
   "source": [
    "# Need method=\"nearest\" if exact coordinate isn't suppled to sel():\n",
    "try:\n",
    "    xdoses_by_orient[\"HFS\"].sel(x=0)\n",
    "except KeyError:\n",
    "    print(\"KeyError\")"
   ]
  },
  {
   "cell_type": "code",
   "execution_count": null,
   "metadata": {},
   "outputs": [],
   "source": [
    "xdoses_by_orient[\"HFS\"].sel(x=0, method=\"nearest\")"
   ]
  },
  {
   "cell_type": "code",
   "execution_count": null,
   "metadata": {},
   "outputs": [],
   "source": [
    "# Value rounding\n",
    "\n",
    "print(f\"\\nValues unrounded:\\n{xdoses_by_orient['HFS'].max()}\")\n",
    "print(f\"\\nX coords unrounded:\\n{xdoses_by_orient['HFS'].x.max()}\")\n",
    "print(f\"\\nValues rounded:\\n{xdoses_by_orient['HFS'].round(decimals=2).max()}\")\n",
    "print(f\"\\nX coords aren't rounded (only values are rounded):\\n{xdoses_by_orient['HFS'].round(decimals=2).x.max()}\")\n",
    "print(f\"\\nValues unrounded again (rounding on previous lines weren't 'in_place'):\\n{xdoses_by_orient['HFS'].max()}\")"
   ]
  },
  {
   "cell_type": "code",
   "execution_count": null,
   "metadata": {},
   "outputs": [],
   "source": [
    "# Coordinate rounding\n",
    "\n",
    "print(f\"\\nX coords unrounded:\\n{xdoses_by_orient['HFS'].x.max()}\")\n",
    "print(f\"\\nX coords rounded:\\n{xdoses_by_orient['HFS'].x.round(decimals=2).max()}\")\n",
    "print(f\"\\nX coords unrounded again (rounding on previous line wasn't 'in_place'):\\n{xdoses_by_orient['HFS'].x.max()}\")"
   ]
  },
  {
   "cell_type": "code",
   "execution_count": null,
   "metadata": {},
   "outputs": [],
   "source": [
    "# Plot at point max\n",
    "argmax = xdoses_by_orient[\"HFS\"].argmax(...)\n",
    "\n",
    "point_max = (\n",
    "    xdoses_by_orient[\"HFS\"].x[argmax['x']],\n",
    "    xdoses_by_orient[\"HFS\"].y[argmax['y']],\n",
    "    xdoses_by_orient[\"HFS\"].z[argmax['z']]\n",
    ")\n",
    "\n",
    "xdose.plot_xdose_tcs_at_point(xdose_to_plot=xdoses_by_orient[\"HFS\"], point=point_max, coord_system=\"S\")"
   ]
  },
  {
   "cell_type": "code",
   "execution_count": null,
   "metadata": {},
   "outputs": [],
   "source": [
    "# Plot HFS cup at centre\n",
    "\n",
    "xdose.plot_xdose_tcs_at_point(xdose_to_plot=xdoses_by_orient[\"HFS\"], point=(0, -1157, 0))"
   ]
  },
  {
   "cell_type": "code",
   "execution_count": null,
   "metadata": {},
   "outputs": [],
   "source": [
    "# Zoom!\n",
    "\n",
    "x_start = -55\n",
    "x_end = 55\n",
    "y_start = -1225\n",
    "y_end = -1100\n",
    "z_start = 60\n",
    "z_end = -60\n",
    "xdose_hfs_zoomed = xdoses_by_orient['HFS'].sel(x=slice(x_start, x_end), y=slice(y_start, y_end), z=slice(z_start, z_end))\n",
    "xdose.plot_xdose_tcs_at_point(xdose_to_plot=xdose_hfs_zoomed, point=(0, -1157, 0))"
   ]
  },
  {
   "cell_type": "code",
   "execution_count": null,
   "metadata": {},
   "outputs": [],
   "source": [
    "# Lovely inbuilt interpolation too!\n",
    "\n",
    "x_new = np.linspace(xdose_hfs_zoomed.x[0], xdose_hfs_zoomed.x[-1], xdose_hfs_zoomed.sizes[\"x\"]*4) # Make 4x finer\n",
    "y_new = np.linspace(xdose_hfs_zoomed.y[0], xdose_hfs_zoomed.y[-1], xdose_hfs_zoomed.sizes[\"y\"]*4) # Make 4x finer\n",
    "z_new = np.linspace(xdose_hfs_zoomed.z[0], xdose_hfs_zoomed.z[-1], xdose_hfs_zoomed.sizes[\"z\"]*4) # Make 4x finer\n",
    "\n",
    "xdose_hfs_interp = xdose_hfs_zoomed.interp(x=x_new, y=y_new, z=z_new)"
   ]
  },
  {
   "cell_type": "code",
   "execution_count": null,
   "metadata": {},
   "outputs": [],
   "source": [
    "xdose.plot_xdose_tcs_at_point(xdose_to_plot=xdose_hfs_interp, point=(0, -1157, 0))"
   ]
  }
 ],
 "metadata": {
  "kernelspec": {
   "display_name": "Python 3.7.9 64-bit",
   "metadata": {
    "interpreter": {
     "hash": "d9ce22c6de45e42563a5ae00e2d764113bb10dc3ac2e1e635a628c0814045e6a"
    }
   },
   "name": "python3"
  },
  "language_info": {
   "codemirror_mode": {
    "name": "ipython",
    "version": 3
   },
   "file_extension": ".py",
   "mimetype": "text/x-python",
   "name": "python",
   "nbconvert_exporter": "python",
   "pygments_lexer": "ipython3",
   "version": "3.7.9-final"
  }
 },
 "nbformat": 4,
 "nbformat_minor": 2
}
